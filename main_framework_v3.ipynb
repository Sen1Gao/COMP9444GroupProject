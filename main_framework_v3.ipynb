{
 "cells": [
  {
   "cell_type": "code",
   "execution_count": 1,
   "id": "06c2a0b4-0191-4eb6-baa9-3bcaac990fcb",
   "metadata": {},
   "outputs": [
    {
     "name": "stderr",
     "output_type": "stream",
     "text": [
      "/root/miniconda3/envs/COMP9444/lib/python3.10/site-packages/tqdm/auto.py:21: TqdmWarning: IProgress not found. Please update jupyter and ipywidgets. See https://ipywidgets.readthedocs.io/en/stable/user_install.html\n",
      "  from .autonotebook import tqdm as notebook_tqdm\n"
     ]
    }
   ],
   "source": [
    "from pathlib import Path\n",
    "\n",
    "from concurrent.futures import ThreadPoolExecutor\n",
    "from tqdm import tqdm\n",
    "import random\n",
    "\n",
    "import numpy as np\n",
    "import cv2\n",
    "import matplotlib.pyplot as plt\n",
    "\n",
    "import torch\n",
    "import torch.nn as nn\n",
    "import torch.nn.functional as F\n",
    "import torch.optim as optim\n",
    "from torch.utils.data import DataLoader, Dataset\n",
    "from torchvision import transforms\n",
    "from torchvision import models\n",
    "\n",
    "from sklearn.metrics import confusion_matrix\n",
    "from torchmetrics.classification import MulticlassAccuracy, MulticlassPrecision\n"
   ]
  },
  {
   "cell_type": "code",
   "execution_count": 2,
   "id": "4800426a",
   "metadata": {},
   "outputs": [],
   "source": [
    "# Utilities Section\n",
    "# RGB format\n",
    "index_color_mapping={0:(0,0,0),         # void\n",
    "                     1:(108,64,20),     # dirt\n",
    "                     2:(255,229,204),   # sand\n",
    "                     3:(0,102,0),       # grass\n",
    "                     4:(0,255,0),       # tree\n",
    "                     5:(0,153,153),     # pole\n",
    "                     6:(0,128,255),     # water\n",
    "                     7:(0,0,255),       # sky\n",
    "                     8:(255,255,0),     # vehicle\n",
    "                     9:(255,0,127),     # container/generic-object\n",
    "                     10:(64,64,64),     # asphalt\n",
    "                     11:(255,128,0),    # gravel\n",
    "                     12:(255,0,0),      # building\n",
    "                     13:(153,76,0),     # mulch\n",
    "                     14:(102,102,0),    # rock-bed\n",
    "                     15:(102,0,0),      # log\n",
    "                     16:(0,255,128),    # bicycle\n",
    "                     17:(204,153,255),  # person\n",
    "                     18:(102,0,204),    # fence\n",
    "                     19:(255,153,204),  # bush\n",
    "                     20:(0,102,102),    # sign\n",
    "                     21:(153,204,255),  # rock\n",
    "                     22:(102,255,255),  # bridge\n",
    "                     23:(101,101,11),   # concrete\n",
    "                     24:(114,85,47)}    # picnic-table\n",
    "\n",
    "# RGB format\n",
    "color_index_mapping={(0,0,0):0,         # void\n",
    "                     (108,64,20):1,     # dirt\n",
    "                     (255,229,204):2,   # sand\n",
    "                     (0,102,0):3,       # grass\n",
    "                     (0,255,0):4,       # tree\n",
    "                     (0,153,153):5,     # pole\n",
    "                     (0,128,255):6,     # water\n",
    "                     (0,0,255):7,       # sky\n",
    "                     (255,255,0):8,     # vehicle\n",
    "                     (255,0,127):9,     # container/generic-object\n",
    "                     (64,64,64):10,     # asphalt\n",
    "                     (255,128,0):11,    # gravel\n",
    "                     (255,0,0):12,      # building\n",
    "                     (153,76,0):13,     # mulch\n",
    "                     (102,102,0):14,    # rock-bed\n",
    "                     (102,0,0):15,      # log\n",
    "                     (0,255,128):16,    # bicycle\n",
    "                     (204,153,255):17,  # person\n",
    "                     (102,0,204):18,    # fence\n",
    "                     (255,153,204):19,  # bush\n",
    "                     (0,102,102):20,    # sign\n",
    "                     (153,204,255):21,  # rock\n",
    "                     (102,255,255):22,  # bridge\n",
    "                     (101,101,11):23,   # concrete\n",
    "                     (114,85,47):24}    # picnic-table     \n",
    "\n",
    "def index_lookup(color:tuple)->int:\n",
    "    \"\"\"\n",
    "    Get index of color from color_index_mapping where the format of color is RGB.\\n\n",
    "    Therefore, you must convert color format to RGB before you pass variable 'color'\\n\n",
    "    The variable 'color' is a tuple.\n",
    "    \"\"\"\n",
    "    return color_index_mapping[color]\n",
    "\n",
    "def to_color_label(index_label:np.ndarray) -> np.ndarray:\n",
    "    \"\"\"\n",
    "    Convert index label to color label for showing the result of prediction.\n",
    "    \"\"\"\n",
    "    h,w=index_label.shape\n",
    "    color_label=np.zeros((h,w,3),dtype=np.uint8)\n",
    "    for i in range(h):\n",
    "        for j in range(w):\n",
    "            color=index_color_mapping[index_label[i][j]]\n",
    "            r,g,b=color\n",
    "            color_label[i][j]=np.array([b,g,r])\n",
    "    return color_label\n",
    "\n",
    "def get_dirs_list(dir_path:Path)->list:\n",
    "    return [p for p in dir_path.iterdir() if p.is_dir()]\n",
    "\n",
    "def get_files_list(dir_path:Path,suffix:str)->list:\n",
    "    return [f for f in dir_path.iterdir() if f.is_file() and f.suffix==suffix]\n",
    "\n",
    "def process_row(row:np.ndarray)->list:\n",
    "    index_list=[]\n",
    "    for element in row:\n",
    "        bgr=element.tolist()\n",
    "        rgb=(bgr[2],bgr[1],bgr[0])\n",
    "        index_list.append(index_lookup(rgb))\n",
    "    return index_list\n",
    "\n",
    "def convert_color2index(file_path:str)->np.ndarray:\n",
    "    color=cv2.imread(file_path,cv2.IMREAD_COLOR)\n",
    "    rows=[color[i,:] for i in range(color.shape[0])]\n",
    "    with ThreadPoolExecutor() as executor:\n",
    "        rst=list(executor.map(process_row,rows))\n",
    "    return np.array(rst,dtype=np.uint8)\n",
    "\n",
    "def compute_confusion_matrix_sklearn(pred, target, num_classes, ignore_index=None):\n",
    "    pred = pred.flatten()\n",
    "    target = target.flatten()\n",
    "\n",
    "    if ignore_index is not None:\n",
    "        mask = target != ignore_index\n",
    "        pred = pred[mask]\n",
    "        target = target[mask]\n",
    "\n",
    "    cm = confusion_matrix(target, pred, labels=np.arange(num_classes))\n",
    "    return cm\n",
    "\n",
    "class CustomDataset(Dataset):\n",
    "    def __init__(self, workspace_path:str, csv_file_name:str, color_transforms=None, target_size=None, loading_mode=\"pre\"):\n",
    "        workspace_path=Path(workspace_path)\n",
    "        csv_file_path=workspace_path/csv_file_name\n",
    "        files_list=np.genfromtxt(csv_file_path,dtype=None,encoding='utf-8',delimiter=',')\n",
    "        self.num_files=files_list.shape[0]\n",
    "        self.color_transforms=color_transforms\n",
    "        self.target_size=target_size\n",
    "        self.loading_mode=loading_mode\n",
    "\n",
    "        self.data_file_full_path_list=[]\n",
    "        for pair in files_list:\n",
    "            color_file_path=Path(pair[0])\n",
    "            index_file_path=Path(pair[1])\n",
    "            self.data_file_full_path_list.append([color_file_path,index_file_path])\n",
    "\n",
    "        self.color_index_list=None\n",
    "        if loading_mode==\"pre\":\n",
    "            with ThreadPoolExecutor() as executor:\n",
    "                self.color_index_list=list(tqdm(executor.map(self.__load_color_and_index__,self.data_file_full_path_list),desc=\"Load images and labels\",total=self.__len__()))\n",
    "\n",
    "    def __load_color_and_index__(self,path_pair)->list:\n",
    "        color_image_path=path_pair[0]\n",
    "        index_label_path=path_pair[1]\n",
    "        color_image=cv2.imread(color_image_path.as_posix(),cv2.IMREAD_UNCHANGED)\n",
    "        index_label=cv2.imread(index_label_path.as_posix(),cv2.IMREAD_UNCHANGED)\n",
    "        if self.target_size is not None:\n",
    "            color_image=cv2.resize(color_image,self.target_size,interpolation=cv2.INTER_LINEAR)\n",
    "            index_label=cv2.resize(index_label,self.target_size,interpolation=cv2.INTER_NEAREST)\n",
    "        return[color_image,index_label]\n",
    "\n",
    "    def __len__(self)->int:\n",
    "        return self.num_files\n",
    "\n",
    "    def __getitem__(self, index):\n",
    "        color_image=None\n",
    "        index_label=None\n",
    "        if self.loading_mode==\"pre\":\n",
    "            color_image=self.color_index_list[index][0]\n",
    "            index_label=self.color_index_list[index][1]\n",
    "        else:\n",
    "            pair=self.__load_color_and_index__(self.data_file_full_path_list[index])\n",
    "            color_image=pair[0]\n",
    "            index_label=pair[1]\n",
    "            \n",
    "        if self.color_transforms is not None:\n",
    "            color_image=self.color_transforms(color_image)\n",
    "            index_label=torch.from_numpy(index_label).long()\n",
    "        return color_image,index_label"
   ]
  },
  {
   "cell_type": "code",
   "execution_count": 3,
   "id": "e1d985ac-cfcf-4b9e-a921-689d048a56ce",
   "metadata": {},
   "outputs": [
    {
     "name": "stdout",
     "output_type": "stream",
     "text": [
      "Current used device is cuda\n"
     ]
    }
   ],
   "source": [
    "# Before everything starting, please create a workspace folder named RUGD_ws \n",
    "# Move folders RUGD_frames-with-annotations and RUGD_annotations into RUGD_ws\n",
    "# Create folder model within RUGD_ws\n",
    "# Set workspace path here\n",
    "workspace_path=\"/root/autodl-tmp/RUGD_ws\"\n",
    "\n",
    "frames_folder_name=\"RUGD_frames-with-annotations\"\n",
    "annotations_folder_name=\"RUGD_annotations\"\n",
    "annotations_index_folder_name=\"RUGD_annotations_index\"\n",
    "model_folder_name=\"model\"\n",
    "\n",
    "random_state=42\n",
    "random.seed(random_state)\n",
    "\n",
    "training_folder_list=[\"park-2\",\"trail\",\"trail-3\",\"trail-4\",\"trail-6\",\"trail-9\",\"trail-10\",\"trail-11\",\"trail-12\",\"trail-14\",\"trail-15\",\"village\"]\n",
    "val_folder_list=[\"park-8\",\"trail-5\"]\n",
    "testing_folder_list=[\"creek\",\"park-1\",\"trail-7\",\"trail-13\"]\n",
    "\n",
    "device=torch.device('cuda' if torch.cuda.is_available() else 'cpu')\n",
    "print(f\"Current used device is {device}\")"
   ]
  },
  {
   "cell_type": "code",
   "execution_count": null,
   "id": "c03907aa-b075-4510-94f5-39141af376a4",
   "metadata": {
    "editable": true,
    "slideshow": {
     "slide_type": ""
    },
    "tags": []
   },
   "outputs": [],
   "source": [
    "# Index labels generation\n",
    "annotations_path=Path(workspace_path)/annotations_folder_name\n",
    "annotation_index_path=Path(workspace_path)/annotations_index_folder_name\n",
    "annotation_index_path.mkdir()\n",
    "print(\"Start generating index labels.\")\n",
    "dirs_list=get_dirs_list(annotations_path)\n",
    "for p in dirs_list:\n",
    "    new_p=Path(annotation_index_path/p.name)\n",
    "    new_p.mkdir()\n",
    "    files_list=get_files_list(p,\".png\")\n",
    "    for f in tqdm(files_list,desc=f\"folder '{p.name}' is being processed.\",total=len(files_list),leave=False):\n",
    "        cv2.imwrite((new_p/f.name).as_posix(),convert_color2index(f.as_posix()))\n",
    "print(\"Generating index labels finishes.\")"
   ]
  },
  {
   "cell_type": "code",
   "execution_count": 4,
   "id": "da50b4f7-a1c7-42d4-bff0-dba4b8f125a2",
   "metadata": {
    "editable": true,
    "slideshow": {
     "slide_type": ""
    },
    "tags": []
   },
   "outputs": [
    {
     "name": "stdout",
     "output_type": "stream",
     "text": [
      "Start spliting dataset.\n",
      "Finish.\n"
     ]
    }
   ],
   "source": [
    "# Dataset spliting\n",
    "frames_path=Path(workspace_path)/frames_folder_name\n",
    "annotations_index_path=Path(workspace_path)/annotations_index_folder_name\n",
    "saving_path=Path(workspace_path)\n",
    "\n",
    "print(\"Start spliting dataset.\")\n",
    "training_data_path_str_list=[]\n",
    "for folder_name in training_folder_list:\n",
    "    frame_path_list=get_files_list(frames_path/folder_name,\".png\")\n",
    "    for frame_path in frame_path_list:\n",
    "        index_path=annotations_index_path/frame_path.parent.name/frame_path.name\n",
    "        training_data_path_str_list.append([frame_path.as_posix(),index_path.as_posix()])\n",
    "np.savetxt((saving_path/\"train_data_path.csv\").as_posix(),np.array(training_data_path_str_list),delimiter=',',fmt='%s')\n",
    "val_data_path_str_list=[]\n",
    "for folder_name in val_folder_list:\n",
    "    frame_path_list=get_files_list(frames_path/folder_name,\".png\")\n",
    "    for frame_path in frame_path_list:\n",
    "        index_path=annotations_index_path/frame_path.parent.name/frame_path.name\n",
    "        val_data_path_str_list.append([frame_path.as_posix(),index_path.as_posix()])\n",
    "np.savetxt((saving_path/\"val_data_path.csv\").as_posix(),np.array(val_data_path_str_list),delimiter=',',fmt='%s')\n",
    "testing_data_path_str_list=[]\n",
    "for folder_name in testing_folder_list:\n",
    "    frame_path_list=get_files_list(frames_path/folder_name,\".png\")\n",
    "    for frame_path in frame_path_list:\n",
    "        index_path=annotations_index_path/frame_path.parent.name/frame_path.name\n",
    "        testing_data_path_str_list.append([frame_path.as_posix(),index_path.as_posix()])\n",
    "np.savetxt((saving_path/\"test_data_path.csv\").as_posix(),np.array(testing_data_path_str_list),delimiter=',',fmt='%s')\n",
    "print(\"Finish.\")"
   ]
  },
  {
   "cell_type": "code",
   "execution_count": 4,
   "id": "d413af9b-b2e6-4fa3-8f7a-3eeb584eb981",
   "metadata": {},
   "outputs": [
    {
     "name": "stderr",
     "output_type": "stream",
     "text": [
      "Calculate mean: 100%|██████████| 150/150 [01:07<00:00,  2.21it/s]\n"
     ]
    },
    {
     "name": "stdout",
     "output_type": "stream",
     "text": [
      "mean: tensor([0.4044, 0.4067, 0.4069], dtype=torch.float64)\n"
     ]
    },
    {
     "name": "stderr",
     "output_type": "stream",
     "text": [
      "Calculate std: 100%|██████████| 150/150 [01:27<00:00,  1.71it/s]"
     ]
    },
    {
     "name": "stdout",
     "output_type": "stream",
     "text": [
      "std: tensor([0.2750, 0.2738, 0.2710], dtype=torch.float64)\n"
     ]
    },
    {
     "name": "stderr",
     "output_type": "stream",
     "text": [
      "\n"
     ]
    }
   ],
   "source": [
    "# Standardization_para_calculating\n",
    "class TrainingDataset(Dataset):\n",
    "    def __init__(self,workspace_path,training_data_csv_file_name=\"train_data_path.csv\") -> None:\n",
    "        workspace_path=Path(workspace_path)\n",
    "        csv_file_path=workspace_path/training_data_csv_file_name\n",
    "        files_list= np.genfromtxt(csv_file_path.as_posix(),dtype=None,encoding='utf-8',delimiter=',')\n",
    "        self.frame_path_list=[]\n",
    "        for s in files_list[:,:1].tolist():\n",
    "            self.frame_path_list.append(Path(s[0]))\n",
    "\n",
    "    def __len__(self) -> int:\n",
    "        return len(self.frame_path_list)\n",
    "    \n",
    "    def __getitem__(self, index):\n",
    "        image=cv2.imread(self.frame_path_list[index].as_posix(),cv2.IMREAD_UNCHANGED)\n",
    "        image=transforms.ToTensor()(image)\n",
    "        return image\n",
    "\n",
    "csv_file_name=\"train_data_path.csv\"\n",
    "dataset=TrainingDataset(workspace_path,csv_file_name)\n",
    "data_loader=DataLoader(dataset=dataset,batch_size=32)\n",
    "\n",
    "sum_bgr=torch.zeros(3,dtype=torch.float64)\n",
    "num_pixel=0\n",
    "for images in tqdm(data_loader,desc=\"Calculate mean: \"):\n",
    "    sum_bgr+=torch.sum(images,[0,2,3])\n",
    "    num_pixel+=images.size(0)*images.size(2)*images.size(3)\n",
    "mean=(sum_bgr/num_pixel)\n",
    "print(f\"mean: {mean}\")\n",
    "\n",
    "sum_squared_bgr=torch.zeros(3,dtype=torch.float64)\n",
    "for images in tqdm(data_loader,desc=\"Calculate std: \"):\n",
    "    resharped_mean=mean[None, :, None, None]\n",
    "    difference_value=images-resharped_mean\n",
    "    squared_difference_value=difference_value**2\n",
    "    sum_squared_bgr+=squared_difference_value.sum([0,2,3])\n",
    "std=torch.sqrt(sum_squared_bgr/num_pixel)\n",
    "print(f\"std: {std}\")"
   ]
  },
  {
   "cell_type": "code",
   "execution_count": 4,
   "id": "998cc71d-e7ba-44a2-9439-1d5078c35fd2",
   "metadata": {},
   "outputs": [
    {
     "name": "stderr",
     "output_type": "stream",
     "text": [
      "/root/miniconda3/envs/COMP9444/lib/python3.10/site-packages/torchvision/models/_utils.py:208: UserWarning: The parameter 'pretrained' is deprecated since 0.13 and may be removed in the future, please use 'weights' instead.\n",
      "  warnings.warn(\n",
      "/root/miniconda3/envs/COMP9444/lib/python3.10/site-packages/torchvision/models/_utils.py:223: UserWarning: Arguments other than a weight enum or `None` for 'weights' are deprecated since 0.13 and may be removed in the future. The current behavior is equivalent to passing `weights=DeepLabV3_ResNet50_Weights.COCO_WITH_VOC_LABELS_V1`. You can also use `weights=DeepLabV3_ResNet50_Weights.DEFAULT` to get the most up-to-date weights.\n",
      "  warnings.warn(msg)\n"
     ]
    }
   ],
   "source": [
    "deeplab_model = models.segmentation.deeplabv3_resnet50(pretrained=True)\n",
    "deeplab_model.classifier[4] = nn.Conv2d(256, 25, kernel_size=(1, 1), stride=(1, 1))\n",
    "deeplab_model.aux_classifier[4]=nn.Conv2d(256, 25, kernel_size=(1, 1), stride=(1, 1))"
   ]
  },
  {
   "cell_type": "code",
   "execution_count": 6,
   "id": "95febd35-7e0f-4b53-a745-5a29e5abd5a6",
   "metadata": {
    "scrolled": true
   },
   "outputs": [],
   "source": [
    "# Parameters of training\n",
    "color_transforms = transforms.Compose([\n",
    "    transforms.ToTensor(),\n",
    "    transforms.Normalize((0.4044, 0.4067, 0.4069), (0.2750, 0.2738, 0.2710))\n",
    "])\n",
    "loading_mode=\"pre\"\n",
    "num_classes=25\n",
    "target_size=(512,512)\n",
    "epochs=200\n",
    "batch_size=8\n",
    "learning_rate=0.001\n",
    "\n",
    "model=deeplab_model\n",
    "#weights=torch.tensor([0.0,4.0,4.0,2.0,1.0,4.0,4.0,2.0,3.0,4.0,3.0,2.0,3.0,2.0,3.0,3.0,5.0,5.0,3.0,2.0,5.0,4.0,4.0,3.0,4.0]).to(device)\n",
    "#criterion = nn.CrossEntropyLoss(weight=weights,ignore_index=0)\n",
    "criterion = nn.CrossEntropyLoss(ignore_index=0)\n",
    "#optimizer = optim.SGD(model.parameters(), lr=learning_rate, momentum=0.9, weight_decay=0.001)\n",
    "optimizer =optim.Adam(model.parameters(), lr=learning_rate,weight_decay=0.001)\n",
    "#scheduler = optim.lr_scheduler.StepLR(optimizer, step_size=20, gamma=0.8)\n",
    "\n",
    "metric_val_acc = MulticlassAccuracy(num_classes=num_classes, ignore_index=0)\n",
    "metric_val_precision = MulticlassPrecision(num_classes=num_classes, average=\"macro\", ignore_index=0)"
   ]
  },
  {
   "cell_type": "code",
   "execution_count": 6,
   "id": "3cc3e0d6-a9a8-4f69-b870-b7c7b5ec3702",
   "metadata": {
    "scrolled": true
   },
   "outputs": [
    {
     "name": "stderr",
     "output_type": "stream",
     "text": [
      "Load images and labels: 100%|██████████| 4779/4779 [00:05<00:00, 831.44it/s]\n",
      "Load images and labels: 100%|██████████| 733/733 [00:00<00:00, 786.21it/s]\n"
     ]
    }
   ],
   "source": [
    "# Training\n",
    "training_dataset=CustomDataset(workspace_path,\"train_data_path.csv\",color_transforms,target_size,loading_mode)\n",
    "val_dataset=CustomDataset(workspace_path,\"val_data_path.csv\",color_transforms,target_size,loading_mode)\n",
    "training_loader=DataLoader(training_dataset,batch_size,shuffle=True,drop_last=True)\n",
    "val_loader=DataLoader(val_dataset,batch_size,shuffle=True,drop_last=True)\n",
    "\n",
    "if torch.cuda.is_available():\n",
    "    torch.cuda.empty_cache()\n",
    "\n",
    "model=model.to(device)\n",
    "\n",
    "metric_val_acc=metric_val_acc.to(device)\n",
    "metric_val_precision=metric_val_precision.to(device)"
   ]
  },
  {
   "cell_type": "code",
   "execution_count": 8,
   "id": "9e5e54c3-866b-410c-88ed-c789efd59c14",
   "metadata": {
    "scrolled": true
   },
   "outputs": [
    {
     "name": "stderr",
     "output_type": "stream",
     "text": [
      "                                                                               "
     ]
    },
    {
     "name": "stdout",
     "output_type": "stream",
     "text": [
      "Epoch: 1/200\n",
      "Training loss: 0.6063 Validation loss: 0.7447\n",
      "accuracy: 0.2567 Precision: 0.3395\n",
      "Pixel-wise Acc: 0.8412 MeanIoU: 0.3433\n"
     ]
    },
    {
     "name": "stderr",
     "output_type": "stream",
     "text": [
      "                                                                               "
     ]
    },
    {
     "name": "stdout",
     "output_type": "stream",
     "text": [
      "Epoch: 2/200\n",
      "Training loss: 0.5672 Validation loss: 0.7562\n",
      "accuracy: 0.2723 Precision: 0.2957\n",
      "Pixel-wise Acc: 0.8169 MeanIoU: 0.3486\n"
     ]
    },
    {
     "name": "stderr",
     "output_type": "stream",
     "text": [
      "                                                                               "
     ]
    },
    {
     "name": "stdout",
     "output_type": "stream",
     "text": [
      "Epoch: 3/200\n",
      "Training loss: 0.5387 Validation loss: 0.5912\n",
      "accuracy: 0.3110 Precision: 0.3514\n",
      "Pixel-wise Acc: 0.8660 MeanIoU: 0.3874\n"
     ]
    },
    {
     "name": "stderr",
     "output_type": "stream",
     "text": [
      "                                                                               "
     ]
    },
    {
     "name": "stdout",
     "output_type": "stream",
     "text": [
      "Epoch: 4/200\n",
      "Training loss: 0.5182 Validation loss: 0.5937\n",
      "accuracy: 0.2914 Precision: 0.3574\n",
      "Pixel-wise Acc: 0.8645 MeanIoU: 0.3398\n"
     ]
    },
    {
     "name": "stderr",
     "output_type": "stream",
     "text": [
      "                                                                               "
     ]
    },
    {
     "name": "stdout",
     "output_type": "stream",
     "text": [
      "Epoch: 5/200\n",
      "Training loss: 0.5026 Validation loss: 0.5269\n",
      "accuracy: 0.3298 Precision: 0.3645\n",
      "Pixel-wise Acc: 0.8822 MeanIoU: 0.3617\n"
     ]
    },
    {
     "name": "stderr",
     "output_type": "stream",
     "text": [
      "                                                                               "
     ]
    },
    {
     "name": "stdout",
     "output_type": "stream",
     "text": [
      "Epoch: 6/200\n",
      "Training loss: 0.4922 Validation loss: 0.5238\n",
      "accuracy: 0.3423 Precision: 0.3768\n",
      "Pixel-wise Acc: 0.8827 MeanIoU: 0.4027\n"
     ]
    },
    {
     "name": "stderr",
     "output_type": "stream",
     "text": [
      "                                                                               "
     ]
    },
    {
     "name": "stdout",
     "output_type": "stream",
     "text": [
      "Epoch: 7/200\n",
      "Training loss: 0.4744 Validation loss: 0.5391\n",
      "accuracy: 0.3307 Precision: 0.3987\n",
      "Pixel-wise Acc: 0.8768 MeanIoU: 0.3616\n"
     ]
    },
    {
     "name": "stderr",
     "output_type": "stream",
     "text": [
      "                                                                               "
     ]
    },
    {
     "name": "stdout",
     "output_type": "stream",
     "text": [
      "Epoch: 8/200\n",
      "Training loss: 0.4753 Validation loss: 0.5642\n",
      "accuracy: 0.3425 Precision: 0.3351\n",
      "Pixel-wise Acc: 0.8775 MeanIoU: 0.3643\n"
     ]
    },
    {
     "name": "stderr",
     "output_type": "stream",
     "text": [
      "                                                                               "
     ]
    },
    {
     "name": "stdout",
     "output_type": "stream",
     "text": [
      "Epoch: 9/200\n",
      "Training loss: 0.4692 Validation loss: 0.6904\n",
      "accuracy: 0.3051 Precision: 0.3321\n",
      "Pixel-wise Acc: 0.8353 MeanIoU: 0.3328\n"
     ]
    },
    {
     "name": "stderr",
     "output_type": "stream",
     "text": [
      "                                                                                "
     ]
    },
    {
     "name": "stdout",
     "output_type": "stream",
     "text": [
      "Epoch: 10/200\n",
      "Training loss: 0.4560 Validation loss: 0.5320\n",
      "accuracy: 0.3240 Precision: 0.4641\n",
      "Pixel-wise Acc: 0.8792 MeanIoU: 0.4002\n"
     ]
    },
    {
     "name": "stderr",
     "output_type": "stream",
     "text": [
      "                                                                                "
     ]
    },
    {
     "name": "stdout",
     "output_type": "stream",
     "text": [
      "Epoch: 11/200\n",
      "Training loss: 0.4573 Validation loss: 0.5159\n",
      "accuracy: 0.3111 Precision: 0.3975\n",
      "Pixel-wise Acc: 0.8850 MeanIoU: 0.3954\n"
     ]
    },
    {
     "name": "stderr",
     "output_type": "stream",
     "text": [
      "                                                                                "
     ]
    },
    {
     "name": "stdout",
     "output_type": "stream",
     "text": [
      "Epoch: 12/200\n",
      "Training loss: 0.4510 Validation loss: 0.5913\n",
      "accuracy: 0.3610 Precision: 0.3188\n",
      "Pixel-wise Acc: 0.8653 MeanIoU: 0.3599\n"
     ]
    },
    {
     "name": "stderr",
     "output_type": "stream",
     "text": [
      "                                                                                "
     ]
    },
    {
     "name": "stdout",
     "output_type": "stream",
     "text": [
      "Epoch: 13/200\n",
      "Training loss: 0.4518 Validation loss: 0.5349\n",
      "accuracy: 0.3328 Precision: 0.4044\n",
      "Pixel-wise Acc: 0.8773 MeanIoU: 0.3599\n"
     ]
    },
    {
     "name": "stderr",
     "output_type": "stream",
     "text": [
      "                                                                                "
     ]
    },
    {
     "name": "stdout",
     "output_type": "stream",
     "text": [
      "Epoch: 14/200\n",
      "Training loss: 0.4479 Validation loss: 0.5020\n",
      "accuracy: 0.2991 Precision: 0.4704\n",
      "Pixel-wise Acc: 0.8902 MeanIoU: 0.3544\n"
     ]
    },
    {
     "name": "stderr",
     "output_type": "stream",
     "text": [
      "                                                                                "
     ]
    },
    {
     "name": "stdout",
     "output_type": "stream",
     "text": [
      "Epoch: 15/200\n",
      "Training loss: 0.4395 Validation loss: 0.4798\n",
      "accuracy: 0.3550 Precision: 0.3990\n",
      "Pixel-wise Acc: 0.8889 MeanIoU: 0.3750\n"
     ]
    },
    {
     "name": "stderr",
     "output_type": "stream",
     "text": [
      "                                                                                "
     ]
    },
    {
     "name": "stdout",
     "output_type": "stream",
     "text": [
      "Epoch: 16/200\n",
      "Training loss: 0.4381 Validation loss: 0.5676\n",
      "accuracy: 0.3311 Precision: 0.4343\n",
      "Pixel-wise Acc: 0.8764 MeanIoU: 0.3645\n"
     ]
    },
    {
     "name": "stderr",
     "output_type": "stream",
     "text": [
      "                                                                                "
     ]
    },
    {
     "name": "stdout",
     "output_type": "stream",
     "text": [
      "Epoch: 17/200\n",
      "Training loss: 0.4413 Validation loss: 0.4885\n",
      "accuracy: 0.3269 Precision: 0.4203\n",
      "Pixel-wise Acc: 0.8905 MeanIoU: 0.3384\n"
     ]
    },
    {
     "name": "stderr",
     "output_type": "stream",
     "text": [
      "                                                                                "
     ]
    },
    {
     "name": "stdout",
     "output_type": "stream",
     "text": [
      "Epoch: 18/200\n",
      "Training loss: 0.4391 Validation loss: 0.5412\n",
      "accuracy: 0.3176 Precision: 0.3979\n",
      "Pixel-wise Acc: 0.8777 MeanIoU: 0.3298\n"
     ]
    },
    {
     "name": "stderr",
     "output_type": "stream",
     "text": [
      "                                                                                "
     ]
    },
    {
     "name": "stdout",
     "output_type": "stream",
     "text": [
      "Epoch: 19/200\n",
      "Training loss: 0.4389 Validation loss: 0.6795\n",
      "accuracy: 0.3141 Precision: 0.3671\n",
      "Pixel-wise Acc: 0.8471 MeanIoU: 0.3048\n"
     ]
    },
    {
     "name": "stderr",
     "output_type": "stream",
     "text": [
      "                                                                                "
     ]
    },
    {
     "name": "stdout",
     "output_type": "stream",
     "text": [
      "Epoch: 20/200\n",
      "Training loss: 0.4377 Validation loss: 0.4816\n",
      "accuracy: 0.3327 Precision: 0.4470\n",
      "Pixel-wise Acc: 0.8913 MeanIoU: 0.3731\n"
     ]
    },
    {
     "name": "stderr",
     "output_type": "stream",
     "text": [
      "                                                                                "
     ]
    },
    {
     "name": "stdout",
     "output_type": "stream",
     "text": [
      "Epoch: 21/200\n",
      "Training loss: 0.4307 Validation loss: 0.7236\n",
      "accuracy: 0.3346 Precision: 0.3696\n",
      "Pixel-wise Acc: 0.8328 MeanIoU: 0.3068\n"
     ]
    },
    {
     "name": "stderr",
     "output_type": "stream",
     "text": [
      "                                                                                "
     ]
    },
    {
     "name": "stdout",
     "output_type": "stream",
     "text": [
      "Epoch: 22/200\n",
      "Training loss: 0.4360 Validation loss: 0.4670\n",
      "accuracy: 0.3427 Precision: 0.4625\n",
      "Pixel-wise Acc: 0.8965 MeanIoU: 0.3792\n"
     ]
    },
    {
     "name": "stderr",
     "output_type": "stream",
     "text": [
      "                                                                                "
     ]
    },
    {
     "name": "stdout",
     "output_type": "stream",
     "text": [
      "Epoch: 23/200\n",
      "Training loss: 0.4285 Validation loss: 0.5361\n",
      "accuracy: 0.3658 Precision: 0.4186\n",
      "Pixel-wise Acc: 0.8763 MeanIoU: 0.3551\n"
     ]
    },
    {
     "name": "stderr",
     "output_type": "stream",
     "text": [
      "                                                                                "
     ]
    },
    {
     "name": "stdout",
     "output_type": "stream",
     "text": [
      "Epoch: 24/200\n",
      "Training loss: 0.4269 Validation loss: 0.5332\n",
      "accuracy: 0.3327 Precision: 0.4274\n",
      "Pixel-wise Acc: 0.8788 MeanIoU: 0.3351\n"
     ]
    },
    {
     "name": "stderr",
     "output_type": "stream",
     "text": [
      "                                                                                "
     ]
    },
    {
     "name": "stdout",
     "output_type": "stream",
     "text": [
      "Epoch: 25/200\n",
      "Training loss: 0.4372 Validation loss: 0.5275\n",
      "accuracy: 0.3228 Precision: 0.5358\n",
      "Pixel-wise Acc: 0.8850 MeanIoU: 0.3706\n"
     ]
    },
    {
     "name": "stderr",
     "output_type": "stream",
     "text": [
      "                                                                                "
     ]
    },
    {
     "name": "stdout",
     "output_type": "stream",
     "text": [
      "Epoch: 26/200\n",
      "Training loss: 0.4253 Validation loss: 0.5559\n",
      "accuracy: 0.3528 Precision: 0.4932\n",
      "Pixel-wise Acc: 0.8685 MeanIoU: 0.3474\n"
     ]
    },
    {
     "name": "stderr",
     "output_type": "stream",
     "text": [
      "                                                                                "
     ]
    },
    {
     "name": "stdout",
     "output_type": "stream",
     "text": [
      "Epoch: 27/200\n",
      "Training loss: 0.4334 Validation loss: 0.6145\n",
      "accuracy: 0.3426 Precision: 0.4505\n",
      "Pixel-wise Acc: 0.8608 MeanIoU: 0.3221\n"
     ]
    },
    {
     "name": "stderr",
     "output_type": "stream",
     "text": [
      "                                                                                "
     ]
    },
    {
     "name": "stdout",
     "output_type": "stream",
     "text": [
      "Epoch: 28/200\n",
      "Training loss: 0.4227 Validation loss: 0.5951\n",
      "accuracy: 0.3489 Precision: 0.4144\n",
      "Pixel-wise Acc: 0.8550 MeanIoU: 0.3295\n"
     ]
    },
    {
     "name": "stderr",
     "output_type": "stream",
     "text": [
      "                                                                                "
     ]
    },
    {
     "name": "stdout",
     "output_type": "stream",
     "text": [
      "Epoch: 29/200\n",
      "Training loss: 0.4162 Validation loss: 0.5056\n",
      "accuracy: 0.3386 Precision: 0.4755\n",
      "Pixel-wise Acc: 0.8844 MeanIoU: 0.3438\n"
     ]
    },
    {
     "name": "stderr",
     "output_type": "stream",
     "text": [
      "                                                                                "
     ]
    },
    {
     "name": "stdout",
     "output_type": "stream",
     "text": [
      "Epoch: 30/200\n",
      "Training loss: 0.4307 Validation loss: 0.5834\n",
      "accuracy: 0.2865 Precision: 0.4188\n",
      "Pixel-wise Acc: 0.8661 MeanIoU: 0.3017\n"
     ]
    },
    {
     "name": "stderr",
     "output_type": "stream",
     "text": [
      "                                                                                "
     ]
    },
    {
     "name": "stdout",
     "output_type": "stream",
     "text": [
      "Epoch: 31/200\n",
      "Training loss: 0.4188 Validation loss: 0.5518\n",
      "accuracy: 0.3756 Precision: 0.4964\n",
      "Pixel-wise Acc: 0.8731 MeanIoU: 0.3805\n"
     ]
    },
    {
     "name": "stderr",
     "output_type": "stream",
     "text": [
      "                                                                                "
     ]
    },
    {
     "name": "stdout",
     "output_type": "stream",
     "text": [
      "Epoch: 32/200\n",
      "Training loss: 0.4242 Validation loss: 0.5201\n",
      "accuracy: 0.3150 Precision: 0.4725\n",
      "Pixel-wise Acc: 0.8839 MeanIoU: 0.3322\n"
     ]
    },
    {
     "name": "stderr",
     "output_type": "stream",
     "text": [
      "                                                                                "
     ]
    },
    {
     "name": "stdout",
     "output_type": "stream",
     "text": [
      "Epoch: 33/200\n",
      "Training loss: 0.4196 Validation loss: 0.5450\n",
      "accuracy: 0.3751 Precision: 0.4555\n",
      "Pixel-wise Acc: 0.8803 MeanIoU: 0.3612\n"
     ]
    },
    {
     "name": "stderr",
     "output_type": "stream",
     "text": [
      "                                                                                "
     ]
    },
    {
     "name": "stdout",
     "output_type": "stream",
     "text": [
      "Epoch: 34/200\n",
      "Training loss: 0.4140 Validation loss: 0.5623\n",
      "accuracy: 0.3760 Precision: 0.4561\n",
      "Pixel-wise Acc: 0.8740 MeanIoU: 0.3970\n"
     ]
    },
    {
     "name": "stderr",
     "output_type": "stream",
     "text": [
      "                                                                                "
     ]
    },
    {
     "name": "stdout",
     "output_type": "stream",
     "text": [
      "Epoch: 35/200\n",
      "Training loss: 0.4195 Validation loss: 0.7242\n",
      "accuracy: 0.3689 Precision: 0.3807\n",
      "Pixel-wise Acc: 0.8288 MeanIoU: 0.3191\n"
     ]
    },
    {
     "name": "stderr",
     "output_type": "stream",
     "text": [
      "                                                                                "
     ]
    },
    {
     "name": "stdout",
     "output_type": "stream",
     "text": [
      "Epoch: 36/200\n",
      "Training loss: 0.4204 Validation loss: 0.6234\n",
      "accuracy: 0.3331 Precision: 0.4770\n",
      "Pixel-wise Acc: 0.8526 MeanIoU: 0.3594\n"
     ]
    },
    {
     "name": "stderr",
     "output_type": "stream",
     "text": [
      "                                                                                "
     ]
    },
    {
     "name": "stdout",
     "output_type": "stream",
     "text": [
      "Epoch: 37/200\n",
      "Training loss: 0.4190 Validation loss: 0.4882\n",
      "accuracy: 0.3495 Precision: 0.4257\n",
      "Pixel-wise Acc: 0.8895 MeanIoU: 0.3476\n"
     ]
    },
    {
     "name": "stderr",
     "output_type": "stream",
     "text": [
      "                                                                                "
     ]
    },
    {
     "name": "stdout",
     "output_type": "stream",
     "text": [
      "Epoch: 38/200\n",
      "Training loss: 0.4247 Validation loss: 0.5693\n",
      "accuracy: 0.3644 Precision: 0.4093\n",
      "Pixel-wise Acc: 0.8743 MeanIoU: 0.3488\n"
     ]
    },
    {
     "name": "stderr",
     "output_type": "stream",
     "text": [
      "                                                                                "
     ]
    },
    {
     "name": "stdout",
     "output_type": "stream",
     "text": [
      "Epoch: 39/200\n",
      "Training loss: 0.4206 Validation loss: 0.5428\n",
      "accuracy: 0.3249 Precision: 0.5015\n",
      "Pixel-wise Acc: 0.8820 MeanIoU: 0.3680\n"
     ]
    },
    {
     "name": "stderr",
     "output_type": "stream",
     "text": [
      "                                                                                "
     ]
    },
    {
     "name": "stdout",
     "output_type": "stream",
     "text": [
      "Epoch: 40/200\n",
      "Training loss: 0.4335 Validation loss: 0.5201\n",
      "accuracy: 0.3810 Precision: 0.4339\n",
      "Pixel-wise Acc: 0.8815 MeanIoU: 0.3573\n"
     ]
    },
    {
     "name": "stderr",
     "output_type": "stream",
     "text": [
      "                                                                                "
     ]
    },
    {
     "name": "stdout",
     "output_type": "stream",
     "text": [
      "Epoch: 41/200\n",
      "Training loss: 0.4169 Validation loss: 0.4988\n",
      "accuracy: 0.3486 Precision: 0.4623\n",
      "Pixel-wise Acc: 0.8897 MeanIoU: 0.3472\n"
     ]
    },
    {
     "name": "stderr",
     "output_type": "stream",
     "text": [
      "                                                                                "
     ]
    },
    {
     "name": "stdout",
     "output_type": "stream",
     "text": [
      "Epoch: 42/200\n",
      "Training loss: 0.4207 Validation loss: 0.5312\n",
      "accuracy: 0.3408 Precision: 0.4837\n",
      "Pixel-wise Acc: 0.8808 MeanIoU: 0.3433\n"
     ]
    },
    {
     "name": "stderr",
     "output_type": "stream",
     "text": [
      "                                                                                "
     ]
    },
    {
     "name": "stdout",
     "output_type": "stream",
     "text": [
      "Epoch: 43/200\n",
      "Training loss: 0.4140 Validation loss: 0.4873\n",
      "accuracy: 0.3659 Precision: 0.5040\n",
      "Pixel-wise Acc: 0.8970 MeanIoU: 0.3786\n"
     ]
    },
    {
     "name": "stderr",
     "output_type": "stream",
     "text": [
      "                                                                                "
     ]
    },
    {
     "name": "stdout",
     "output_type": "stream",
     "text": [
      "Epoch: 44/200\n",
      "Training loss: 0.4139 Validation loss: 0.5748\n",
      "accuracy: 0.3772 Precision: 0.4712\n",
      "Pixel-wise Acc: 0.8765 MeanIoU: 0.4222\n"
     ]
    },
    {
     "name": "stderr",
     "output_type": "stream",
     "text": [
      "                                                                                "
     ]
    },
    {
     "name": "stdout",
     "output_type": "stream",
     "text": [
      "Epoch: 45/200\n",
      "Training loss: 0.4198 Validation loss: 0.5179\n",
      "accuracy: 0.3575 Precision: 0.4985\n",
      "Pixel-wise Acc: 0.8862 MeanIoU: 0.3577\n"
     ]
    },
    {
     "name": "stderr",
     "output_type": "stream",
     "text": [
      "                                                                                "
     ]
    },
    {
     "name": "stdout",
     "output_type": "stream",
     "text": [
      "Epoch: 46/200\n",
      "Training loss: 0.4115 Validation loss: 0.6454\n",
      "accuracy: 0.3670 Precision: 0.3947\n",
      "Pixel-wise Acc: 0.8439 MeanIoU: 0.3394\n"
     ]
    },
    {
     "name": "stderr",
     "output_type": "stream",
     "text": [
      "                                                                                "
     ]
    },
    {
     "name": "stdout",
     "output_type": "stream",
     "text": [
      "Epoch: 47/200\n",
      "Training loss: 0.4170 Validation loss: 0.5734\n",
      "accuracy: 0.3514 Precision: 0.4264\n",
      "Pixel-wise Acc: 0.8712 MeanIoU: 0.3475\n"
     ]
    },
    {
     "name": "stderr",
     "output_type": "stream",
     "text": [
      "                                                                                "
     ]
    },
    {
     "name": "stdout",
     "output_type": "stream",
     "text": [
      "Epoch: 48/200\n",
      "Training loss: 0.4157 Validation loss: 0.4830\n",
      "accuracy: 0.3347 Precision: 0.4909\n",
      "Pixel-wise Acc: 0.8875 MeanIoU: 0.3521\n"
     ]
    },
    {
     "name": "stderr",
     "output_type": "stream",
     "text": [
      "                                                                                "
     ]
    },
    {
     "name": "stdout",
     "output_type": "stream",
     "text": [
      "Epoch: 49/200\n",
      "Training loss: 0.4157 Validation loss: 0.4808\n",
      "accuracy: 0.3875 Precision: 0.5139\n",
      "Pixel-wise Acc: 0.8938 MeanIoU: 0.4173\n"
     ]
    },
    {
     "name": "stderr",
     "output_type": "stream",
     "text": [
      "                                                                                "
     ]
    },
    {
     "name": "stdout",
     "output_type": "stream",
     "text": [
      "Epoch: 50/200\n",
      "Training loss: 0.4078 Validation loss: 0.5053\n",
      "accuracy: 0.3374 Precision: 0.4706\n",
      "Pixel-wise Acc: 0.8853 MeanIoU: 0.3479\n"
     ]
    },
    {
     "name": "stderr",
     "output_type": "stream",
     "text": [
      "                                                                                "
     ]
    },
    {
     "name": "stdout",
     "output_type": "stream",
     "text": [
      "Epoch: 51/200\n",
      "Training loss: 0.4183 Validation loss: 0.5459\n",
      "accuracy: 0.3260 Precision: 0.4952\n",
      "Pixel-wise Acc: 0.8784 MeanIoU: 0.3426\n"
     ]
    },
    {
     "name": "stderr",
     "output_type": "stream",
     "text": [
      "                                                                                "
     ]
    },
    {
     "name": "stdout",
     "output_type": "stream",
     "text": [
      "Epoch: 52/200\n",
      "Training loss: 0.4160 Validation loss: 0.5423\n",
      "accuracy: 0.2991 Precision: 0.4463\n",
      "Pixel-wise Acc: 0.8898 MeanIoU: 0.3258\n"
     ]
    },
    {
     "name": "stderr",
     "output_type": "stream",
     "text": [
      "                                                                                "
     ]
    },
    {
     "name": "stdout",
     "output_type": "stream",
     "text": [
      "Epoch: 53/200\n",
      "Training loss: 0.4105 Validation loss: 0.5524\n",
      "accuracy: 0.3327 Precision: 0.4763\n",
      "Pixel-wise Acc: 0.8736 MeanIoU: 0.3711\n"
     ]
    },
    {
     "name": "stderr",
     "output_type": "stream",
     "text": [
      "                                                                                "
     ]
    },
    {
     "name": "stdout",
     "output_type": "stream",
     "text": [
      "Epoch: 54/200\n",
      "Training loss: 0.4175 Validation loss: 0.5619\n",
      "accuracy: 0.3713 Precision: 0.4413\n",
      "Pixel-wise Acc: 0.8687 MeanIoU: 0.3543\n"
     ]
    },
    {
     "name": "stderr",
     "output_type": "stream",
     "text": [
      "                                                                                "
     ]
    },
    {
     "name": "stdout",
     "output_type": "stream",
     "text": [
      "Epoch: 55/200\n",
      "Training loss: 0.4086 Validation loss: 0.7764\n",
      "accuracy: 0.3671 Precision: 0.3857\n",
      "Pixel-wise Acc: 0.8268 MeanIoU: 0.3266\n"
     ]
    },
    {
     "name": "stderr",
     "output_type": "stream",
     "text": [
      "                                                                                "
     ]
    },
    {
     "name": "stdout",
     "output_type": "stream",
     "text": [
      "Epoch: 56/200\n",
      "Training loss: 0.4205 Validation loss: 0.6187\n",
      "accuracy: 0.3499 Precision: 0.3724\n",
      "Pixel-wise Acc: 0.8700 MeanIoU: 0.3263\n"
     ]
    },
    {
     "name": "stderr",
     "output_type": "stream",
     "text": [
      "                                                                                "
     ]
    },
    {
     "name": "stdout",
     "output_type": "stream",
     "text": [
      "Epoch: 57/200\n",
      "Training loss: 0.4153 Validation loss: 0.5527\n",
      "accuracy: 0.3437 Precision: 0.3990\n",
      "Pixel-wise Acc: 0.8799 MeanIoU: 0.3314\n"
     ]
    },
    {
     "name": "stderr",
     "output_type": "stream",
     "text": [
      "                                                                                "
     ]
    },
    {
     "name": "stdout",
     "output_type": "stream",
     "text": [
      "Epoch: 58/200\n",
      "Training loss: 0.4069 Validation loss: 0.4940\n",
      "accuracy: 0.3914 Precision: 0.4548\n",
      "Pixel-wise Acc: 0.8857 MeanIoU: 0.3830\n"
     ]
    },
    {
     "name": "stderr",
     "output_type": "stream",
     "text": [
      "                                                                                "
     ]
    },
    {
     "name": "stdout",
     "output_type": "stream",
     "text": [
      "Epoch: 59/200\n",
      "Training loss: 0.4100 Validation loss: 0.5635\n",
      "accuracy: 0.3438 Precision: 0.4544\n",
      "Pixel-wise Acc: 0.8653 MeanIoU: 0.3417\n"
     ]
    },
    {
     "name": "stderr",
     "output_type": "stream",
     "text": [
      "                                                                                "
     ]
    },
    {
     "name": "stdout",
     "output_type": "stream",
     "text": [
      "Epoch: 60/200\n",
      "Training loss: 0.4126 Validation loss: 0.5028\n",
      "accuracy: 0.3454 Precision: 0.4484\n",
      "Pixel-wise Acc: 0.8852 MeanIoU: 0.3434\n"
     ]
    },
    {
     "name": "stderr",
     "output_type": "stream",
     "text": [
      "                                                                                "
     ]
    },
    {
     "name": "stdout",
     "output_type": "stream",
     "text": [
      "Epoch: 61/200\n",
      "Training loss: 0.4144 Validation loss: 0.5195\n",
      "accuracy: 0.3582 Precision: 0.4343\n",
      "Pixel-wise Acc: 0.8833 MeanIoU: 0.3488\n"
     ]
    },
    {
     "name": "stderr",
     "output_type": "stream",
     "text": [
      "                                                                                "
     ]
    },
    {
     "name": "stdout",
     "output_type": "stream",
     "text": [
      "Epoch: 62/200\n",
      "Training loss: 0.4035 Validation loss: 0.4910\n",
      "accuracy: 0.3474 Precision: 0.4838\n",
      "Pixel-wise Acc: 0.8869 MeanIoU: 0.3627\n"
     ]
    },
    {
     "name": "stderr",
     "output_type": "stream",
     "text": [
      "                                                                                "
     ]
    },
    {
     "name": "stdout",
     "output_type": "stream",
     "text": [
      "Epoch: 63/200\n",
      "Training loss: 0.4131 Validation loss: 0.5103\n",
      "accuracy: 0.3869 Precision: 0.4718\n",
      "Pixel-wise Acc: 0.8816 MeanIoU: 0.3813\n"
     ]
    },
    {
     "name": "stderr",
     "output_type": "stream",
     "text": [
      "                                                                                "
     ]
    },
    {
     "name": "stdout",
     "output_type": "stream",
     "text": [
      "Epoch: 64/200\n",
      "Training loss: 0.4099 Validation loss: 0.5589\n",
      "accuracy: 0.3402 Precision: 0.4355\n",
      "Pixel-wise Acc: 0.8807 MeanIoU: 0.3445\n"
     ]
    },
    {
     "name": "stderr",
     "output_type": "stream",
     "text": [
      "                                                                                "
     ]
    },
    {
     "name": "stdout",
     "output_type": "stream",
     "text": [
      "Epoch: 65/200\n",
      "Training loss: 0.4072 Validation loss: 0.5210\n",
      "accuracy: 0.3359 Precision: 0.4600\n",
      "Pixel-wise Acc: 0.8817 MeanIoU: 0.3426\n"
     ]
    },
    {
     "name": "stderr",
     "output_type": "stream",
     "text": [
      "                                                                                "
     ]
    },
    {
     "name": "stdout",
     "output_type": "stream",
     "text": [
      "Epoch: 66/200\n",
      "Training loss: 0.4118 Validation loss: 0.5210\n",
      "accuracy: 0.3282 Precision: 0.5327\n",
      "Pixel-wise Acc: 0.8793 MeanIoU: 0.3689\n"
     ]
    },
    {
     "name": "stderr",
     "output_type": "stream",
     "text": [
      "                                                                                "
     ]
    },
    {
     "name": "stdout",
     "output_type": "stream",
     "text": [
      "Epoch: 67/200\n",
      "Training loss: 0.4136 Validation loss: 0.4769\n",
      "accuracy: 0.3751 Precision: 0.5122\n",
      "Pixel-wise Acc: 0.8932 MeanIoU: 0.4059\n"
     ]
    },
    {
     "name": "stderr",
     "output_type": "stream",
     "text": [
      "                                                                                "
     ]
    },
    {
     "name": "stdout",
     "output_type": "stream",
     "text": [
      "Epoch: 68/200\n",
      "Training loss: 0.4126 Validation loss: 0.7082\n",
      "accuracy: 0.3688 Precision: 0.4167\n",
      "Pixel-wise Acc: 0.8336 MeanIoU: 0.3405\n"
     ]
    },
    {
     "name": "stderr",
     "output_type": "stream",
     "text": [
      "                                                                                "
     ]
    },
    {
     "name": "stdout",
     "output_type": "stream",
     "text": [
      "Epoch: 69/200\n",
      "Training loss: 0.4068 Validation loss: 0.4693\n",
      "accuracy: 0.3581 Precision: 0.4974\n",
      "Pixel-wise Acc: 0.8925 MeanIoU: 0.3963\n"
     ]
    },
    {
     "name": "stderr",
     "output_type": "stream",
     "text": [
      "                                                                                "
     ]
    },
    {
     "name": "stdout",
     "output_type": "stream",
     "text": [
      "Epoch: 70/200\n",
      "Training loss: 0.4103 Validation loss: 0.5375\n",
      "accuracy: 0.3398 Precision: 0.5212\n",
      "Pixel-wise Acc: 0.8792 MeanIoU: 0.3483\n"
     ]
    },
    {
     "name": "stderr",
     "output_type": "stream",
     "text": [
      "                                                                                "
     ]
    },
    {
     "name": "stdout",
     "output_type": "stream",
     "text": [
      "Epoch: 71/200\n",
      "Training loss: 0.4144 Validation loss: 0.4947\n",
      "accuracy: 0.3214 Precision: 0.5047\n",
      "Pixel-wise Acc: 0.8890 MeanIoU: 0.3731\n"
     ]
    },
    {
     "name": "stderr",
     "output_type": "stream",
     "text": [
      "                                                                                "
     ]
    },
    {
     "name": "stdout",
     "output_type": "stream",
     "text": [
      "Epoch: 72/200\n",
      "Training loss: 0.4031 Validation loss: 0.4742\n",
      "accuracy: 0.3898 Precision: 0.4551\n",
      "Pixel-wise Acc: 0.8928 MeanIoU: 0.4041\n"
     ]
    },
    {
     "name": "stderr",
     "output_type": "stream",
     "text": [
      "                                                                                "
     ]
    },
    {
     "name": "stdout",
     "output_type": "stream",
     "text": [
      "Epoch: 73/200\n",
      "Training loss: 0.4144 Validation loss: 0.5572\n",
      "accuracy: 0.3359 Precision: 0.4336\n",
      "Pixel-wise Acc: 0.8757 MeanIoU: 0.3423\n"
     ]
    },
    {
     "name": "stderr",
     "output_type": "stream",
     "text": [
      "                                                                                "
     ]
    },
    {
     "name": "stdout",
     "output_type": "stream",
     "text": [
      "Epoch: 74/200\n",
      "Training loss: 0.4058 Validation loss: 0.5380\n",
      "accuracy: 0.3616 Precision: 0.4955\n",
      "Pixel-wise Acc: 0.8822 MeanIoU: 0.3893\n"
     ]
    },
    {
     "name": "stderr",
     "output_type": "stream",
     "text": [
      "                                                                                "
     ]
    },
    {
     "name": "stdout",
     "output_type": "stream",
     "text": [
      "Epoch: 75/200\n",
      "Training loss: 0.4057 Validation loss: 0.5036\n",
      "accuracy: 0.3866 Precision: 0.5204\n",
      "Pixel-wise Acc: 0.8871 MeanIoU: 0.4067\n"
     ]
    },
    {
     "name": "stderr",
     "output_type": "stream",
     "text": [
      "                                                                                "
     ]
    },
    {
     "name": "stdout",
     "output_type": "stream",
     "text": [
      "Epoch: 76/200\n",
      "Training loss: 0.4158 Validation loss: 0.5930\n",
      "accuracy: 0.3952 Precision: 0.4369\n",
      "Pixel-wise Acc: 0.8606 MeanIoU: 0.3903\n"
     ]
    },
    {
     "name": "stderr",
     "output_type": "stream",
     "text": [
      "                                                                                "
     ]
    },
    {
     "name": "stdout",
     "output_type": "stream",
     "text": [
      "Epoch: 77/200\n",
      "Training loss: 0.4030 Validation loss: 0.5462\n",
      "accuracy: 0.3643 Precision: 0.4279\n",
      "Pixel-wise Acc: 0.8725 MeanIoU: 0.3875\n"
     ]
    },
    {
     "name": "stderr",
     "output_type": "stream",
     "text": [
      "                                                                                "
     ]
    },
    {
     "name": "stdout",
     "output_type": "stream",
     "text": [
      "Epoch: 78/200\n",
      "Training loss: 0.4054 Validation loss: 0.5873\n",
      "accuracy: 0.3714 Precision: 0.4902\n",
      "Pixel-wise Acc: 0.8724 MeanIoU: 0.3973\n"
     ]
    },
    {
     "name": "stderr",
     "output_type": "stream",
     "text": [
      "                                                                                "
     ]
    },
    {
     "name": "stdout",
     "output_type": "stream",
     "text": [
      "Epoch: 79/200\n",
      "Training loss: 0.4184 Validation loss: 0.5307\n",
      "accuracy: 0.3755 Precision: 0.4334\n",
      "Pixel-wise Acc: 0.8748 MeanIoU: 0.3887\n"
     ]
    },
    {
     "name": "stderr",
     "output_type": "stream",
     "text": [
      "                                                                                "
     ]
    },
    {
     "name": "stdout",
     "output_type": "stream",
     "text": [
      "Epoch: 80/200\n",
      "Training loss: 0.4031 Validation loss: 0.5090\n",
      "accuracy: 0.3754 Precision: 0.4859\n",
      "Pixel-wise Acc: 0.8832 MeanIoU: 0.3757\n"
     ]
    },
    {
     "name": "stderr",
     "output_type": "stream",
     "text": [
      "                                                                                "
     ]
    },
    {
     "name": "stdout",
     "output_type": "stream",
     "text": [
      "Epoch: 81/200\n",
      "Training loss: 0.4048 Validation loss: 0.5152\n",
      "accuracy: 0.4057 Precision: 0.4721\n",
      "Pixel-wise Acc: 0.8842 MeanIoU: 0.4159\n"
     ]
    },
    {
     "name": "stderr",
     "output_type": "stream",
     "text": [
      "                                                                                "
     ]
    },
    {
     "name": "stdout",
     "output_type": "stream",
     "text": [
      "Epoch: 82/200\n",
      "Training loss: 0.4048 Validation loss: 0.6339\n",
      "accuracy: 0.3581 Precision: 0.4559\n",
      "Pixel-wise Acc: 0.8536 MeanIoU: 0.3440\n"
     ]
    },
    {
     "name": "stderr",
     "output_type": "stream",
     "text": [
      "                                                                                "
     ]
    },
    {
     "name": "stdout",
     "output_type": "stream",
     "text": [
      "Epoch: 83/200\n",
      "Training loss: 0.4140 Validation loss: 0.5062\n",
      "accuracy: 0.3619 Precision: 0.5082\n",
      "Pixel-wise Acc: 0.8874 MeanIoU: 0.3939\n"
     ]
    },
    {
     "name": "stderr",
     "output_type": "stream",
     "text": [
      "                                                                                "
     ]
    },
    {
     "name": "stdout",
     "output_type": "stream",
     "text": [
      "Epoch: 84/200\n",
      "Training loss: 0.4024 Validation loss: 0.5310\n",
      "accuracy: 0.3750 Precision: 0.4450\n",
      "Pixel-wise Acc: 0.8773 MeanIoU: 0.3586\n"
     ]
    },
    {
     "name": "stderr",
     "output_type": "stream",
     "text": [
      "                                                                                "
     ]
    },
    {
     "name": "stdout",
     "output_type": "stream",
     "text": [
      "Epoch: 85/200\n",
      "Training loss: 0.4057 Validation loss: 0.5080\n",
      "accuracy: 0.3843 Precision: 0.5189\n",
      "Pixel-wise Acc: 0.8852 MeanIoU: 0.4035\n"
     ]
    },
    {
     "name": "stderr",
     "output_type": "stream",
     "text": [
      "                                                                                "
     ]
    },
    {
     "name": "stdout",
     "output_type": "stream",
     "text": [
      "Epoch: 86/200\n",
      "Training loss: 0.4034 Validation loss: 0.5395\n",
      "accuracy: 0.3659 Precision: 0.4965\n",
      "Pixel-wise Acc: 0.8755 MeanIoU: 0.3523\n"
     ]
    },
    {
     "name": "stderr",
     "output_type": "stream",
     "text": [
      "                                                                                "
     ]
    },
    {
     "name": "stdout",
     "output_type": "stream",
     "text": [
      "Epoch: 87/200\n",
      "Training loss: 0.4090 Validation loss: 0.5793\n",
      "accuracy: 0.3793 Precision: 0.4339\n",
      "Pixel-wise Acc: 0.8650 MeanIoU: 0.3555\n"
     ]
    },
    {
     "name": "stderr",
     "output_type": "stream",
     "text": [
      "                                                                                "
     ]
    },
    {
     "name": "stdout",
     "output_type": "stream",
     "text": [
      "Epoch: 88/200\n",
      "Training loss: 0.4018 Validation loss: 0.5934\n",
      "accuracy: 0.3221 Precision: 0.4397\n",
      "Pixel-wise Acc: 0.8595 MeanIoU: 0.3284\n"
     ]
    },
    {
     "name": "stderr",
     "output_type": "stream",
     "text": [
      "                                                                                "
     ]
    },
    {
     "name": "stdout",
     "output_type": "stream",
     "text": [
      "Epoch: 89/200\n",
      "Training loss: 0.4115 Validation loss: 0.5378\n",
      "accuracy: 0.3467 Precision: 0.4435\n",
      "Pixel-wise Acc: 0.8717 MeanIoU: 0.3442\n"
     ]
    },
    {
     "name": "stderr",
     "output_type": "stream",
     "text": [
      "                                                                                "
     ]
    },
    {
     "name": "stdout",
     "output_type": "stream",
     "text": [
      "Epoch: 90/200\n",
      "Training loss: 0.4067 Validation loss: 0.5153\n",
      "accuracy: 0.3807 Precision: 0.4054\n",
      "Pixel-wise Acc: 0.8752 MeanIoU: 0.3640\n"
     ]
    },
    {
     "name": "stderr",
     "output_type": "stream",
     "text": [
      "                                                                                "
     ]
    },
    {
     "name": "stdout",
     "output_type": "stream",
     "text": [
      "Epoch: 91/200\n",
      "Training loss: 0.4210 Validation loss: 0.5388\n",
      "accuracy: 0.3708 Precision: 0.3896\n",
      "Pixel-wise Acc: 0.8727 MeanIoU: 0.3606\n"
     ]
    },
    {
     "name": "stderr",
     "output_type": "stream",
     "text": [
      "                                                                                "
     ]
    },
    {
     "name": "stdout",
     "output_type": "stream",
     "text": [
      "Epoch: 92/200\n",
      "Training loss: 0.4058 Validation loss: 0.4548\n",
      "accuracy: 0.3882 Precision: 0.5829\n",
      "Pixel-wise Acc: 0.8974 MeanIoU: 0.4192\n"
     ]
    },
    {
     "name": "stderr",
     "output_type": "stream",
     "text": [
      "                                                                                "
     ]
    },
    {
     "name": "stdout",
     "output_type": "stream",
     "text": [
      "Epoch: 93/200\n",
      "Training loss: 0.4015 Validation loss: 0.5443\n",
      "accuracy: 0.3631 Precision: 0.4733\n",
      "Pixel-wise Acc: 0.8762 MeanIoU: 0.3634\n"
     ]
    },
    {
     "name": "stderr",
     "output_type": "stream",
     "text": [
      "                                                                                "
     ]
    },
    {
     "name": "stdout",
     "output_type": "stream",
     "text": [
      "Epoch: 94/200\n",
      "Training loss: 0.4104 Validation loss: 0.5768\n",
      "accuracy: 0.3034 Precision: 0.4684\n",
      "Pixel-wise Acc: 0.8707 MeanIoU: 0.3124\n"
     ]
    },
    {
     "name": "stderr",
     "output_type": "stream",
     "text": [
      "                                                                                "
     ]
    },
    {
     "name": "stdout",
     "output_type": "stream",
     "text": [
      "Epoch: 95/200\n",
      "Training loss: 0.4051 Validation loss: 0.5149\n",
      "accuracy: 0.3507 Precision: 0.4611\n",
      "Pixel-wise Acc: 0.8853 MeanIoU: 0.3449\n"
     ]
    },
    {
     "name": "stderr",
     "output_type": "stream",
     "text": [
      "                                                                                "
     ]
    },
    {
     "name": "stdout",
     "output_type": "stream",
     "text": [
      "Epoch: 96/200\n",
      "Training loss: 0.4050 Validation loss: 0.5733\n",
      "accuracy: 0.3668 Precision: 0.4387\n",
      "Pixel-wise Acc: 0.8745 MeanIoU: 0.3478\n"
     ]
    },
    {
     "name": "stderr",
     "output_type": "stream",
     "text": [
      "                                                                                "
     ]
    },
    {
     "name": "stdout",
     "output_type": "stream",
     "text": [
      "Epoch: 97/200\n",
      "Training loss: 0.4063 Validation loss: 0.4961\n",
      "accuracy: 0.3398 Precision: 0.4921\n",
      "Pixel-wise Acc: 0.8852 MeanIoU: 0.3456\n"
     ]
    },
    {
     "name": "stderr",
     "output_type": "stream",
     "text": [
      "                                                                                "
     ]
    },
    {
     "name": "stdout",
     "output_type": "stream",
     "text": [
      "Epoch: 98/200\n",
      "Training loss: 0.4037 Validation loss: 0.5174\n",
      "accuracy: 0.3881 Precision: 0.4646\n",
      "Pixel-wise Acc: 0.8838 MeanIoU: 0.3715\n"
     ]
    },
    {
     "name": "stderr",
     "output_type": "stream",
     "text": [
      "                                                                                "
     ]
    },
    {
     "name": "stdout",
     "output_type": "stream",
     "text": [
      "Epoch: 99/200\n",
      "Training loss: 0.4093 Validation loss: 0.5183\n",
      "accuracy: 0.3808 Precision: 0.4693\n",
      "Pixel-wise Acc: 0.8857 MeanIoU: 0.3673\n"
     ]
    },
    {
     "name": "stderr",
     "output_type": "stream",
     "text": [
      "                                                                                 "
     ]
    },
    {
     "name": "stdout",
     "output_type": "stream",
     "text": [
      "Epoch: 100/200\n",
      "Training loss: 0.4097 Validation loss: 0.5052\n",
      "accuracy: 0.3927 Precision: 0.5333\n",
      "Pixel-wise Acc: 0.8821 MeanIoU: 0.4118\n"
     ]
    },
    {
     "name": "stderr",
     "output_type": "stream",
     "text": [
      "                                                                                 "
     ]
    },
    {
     "name": "stdout",
     "output_type": "stream",
     "text": [
      "Epoch: 101/200\n",
      "Training loss: 0.4074 Validation loss: 0.5393\n",
      "accuracy: 0.3557 Precision: 0.4636\n",
      "Pixel-wise Acc: 0.8774 MeanIoU: 0.3817\n"
     ]
    },
    {
     "name": "stderr",
     "output_type": "stream",
     "text": [
      "                                                                                 "
     ]
    },
    {
     "name": "stdout",
     "output_type": "stream",
     "text": [
      "Epoch: 102/200\n",
      "Training loss: 0.4030 Validation loss: 0.6097\n",
      "accuracy: 0.3612 Precision: 0.3900\n",
      "Pixel-wise Acc: 0.8600 MeanIoU: 0.3437\n"
     ]
    },
    {
     "name": "stderr",
     "output_type": "stream",
     "text": [
      "                                                                                 "
     ]
    },
    {
     "name": "stdout",
     "output_type": "stream",
     "text": [
      "Epoch: 103/200\n",
      "Training loss: 0.3970 Validation loss: 0.5814\n",
      "accuracy: 0.4124 Precision: 0.4403\n",
      "Pixel-wise Acc: 0.8805 MeanIoU: 0.4120\n"
     ]
    },
    {
     "name": "stderr",
     "output_type": "stream",
     "text": [
      "                                                                                 "
     ]
    },
    {
     "name": "stdout",
     "output_type": "stream",
     "text": [
      "Epoch: 104/200\n",
      "Training loss: 0.4171 Validation loss: 0.5306\n",
      "accuracy: 0.3545 Precision: 0.4774\n",
      "Pixel-wise Acc: 0.8783 MeanIoU: 0.3583\n"
     ]
    },
    {
     "name": "stderr",
     "output_type": "stream",
     "text": [
      "                                                                                 "
     ]
    },
    {
     "name": "stdout",
     "output_type": "stream",
     "text": [
      "Epoch: 105/200\n",
      "Training loss: 0.4027 Validation loss: 0.4940\n",
      "accuracy: 0.3905 Precision: 0.4658\n",
      "Pixel-wise Acc: 0.8923 MeanIoU: 0.4089\n"
     ]
    },
    {
     "name": "stderr",
     "output_type": "stream",
     "text": [
      "                                                                                 "
     ]
    },
    {
     "name": "stdout",
     "output_type": "stream",
     "text": [
      "Epoch: 106/200\n",
      "Training loss: 0.4123 Validation loss: 0.5102\n",
      "accuracy: 0.3619 Precision: 0.4345\n",
      "Pixel-wise Acc: 0.8853 MeanIoU: 0.3560\n"
     ]
    },
    {
     "name": "stderr",
     "output_type": "stream",
     "text": [
      "                                                                                 "
     ]
    },
    {
     "name": "stdout",
     "output_type": "stream",
     "text": [
      "Epoch: 107/200\n",
      "Training loss: 0.4010 Validation loss: 0.5232\n",
      "accuracy: 0.3602 Precision: 0.4985\n",
      "Pixel-wise Acc: 0.8825 MeanIoU: 0.3660\n"
     ]
    },
    {
     "name": "stderr",
     "output_type": "stream",
     "text": [
      "                                                                                 "
     ]
    },
    {
     "name": "stdout",
     "output_type": "stream",
     "text": [
      "Epoch: 108/200\n",
      "Training loss: 0.4115 Validation loss: 0.7657\n",
      "accuracy: 0.3157 Precision: 0.4286\n",
      "Pixel-wise Acc: 0.8231 MeanIoU: 0.3483\n"
     ]
    },
    {
     "name": "stderr",
     "output_type": "stream",
     "text": [
      "                                                                                 "
     ]
    },
    {
     "name": "stdout",
     "output_type": "stream",
     "text": [
      "Epoch: 109/200\n",
      "Training loss: 0.4113 Validation loss: 0.5246\n",
      "accuracy: 0.3489 Precision: 0.4367\n",
      "Pixel-wise Acc: 0.8810 MeanIoU: 0.3459\n"
     ]
    },
    {
     "name": "stderr",
     "output_type": "stream",
     "text": [
      "                                                                                 "
     ]
    },
    {
     "name": "stdout",
     "output_type": "stream",
     "text": [
      "Epoch: 110/200\n",
      "Training loss: 0.4048 Validation loss: 0.4687\n",
      "accuracy: 0.3535 Precision: 0.4891\n",
      "Pixel-wise Acc: 0.8901 MeanIoU: 0.3640\n"
     ]
    },
    {
     "name": "stderr",
     "output_type": "stream",
     "text": [
      "                                                                                 "
     ]
    },
    {
     "name": "stdout",
     "output_type": "stream",
     "text": [
      "Epoch: 111/200\n",
      "Training loss: 0.4028 Validation loss: 0.4884\n",
      "accuracy: 0.3732 Precision: 0.4724\n",
      "Pixel-wise Acc: 0.8819 MeanIoU: 0.3682\n"
     ]
    },
    {
     "name": "stderr",
     "output_type": "stream",
     "text": [
      "                                                                                 "
     ]
    },
    {
     "name": "stdout",
     "output_type": "stream",
     "text": [
      "Epoch: 112/200\n",
      "Training loss: 0.3999 Validation loss: 1.8643\n",
      "accuracy: 0.2209 Precision: 0.4300\n",
      "Pixel-wise Acc: 0.6325 MeanIoU: 0.2288\n"
     ]
    },
    {
     "name": "stderr",
     "output_type": "stream",
     "text": [
      "                                                                                 "
     ]
    },
    {
     "name": "stdout",
     "output_type": "stream",
     "text": [
      "Epoch: 113/200\n",
      "Training loss: 0.4045 Validation loss: 0.5205\n",
      "accuracy: 0.3733 Precision: 0.4640\n",
      "Pixel-wise Acc: 0.8795 MeanIoU: 0.3654\n"
     ]
    },
    {
     "name": "stderr",
     "output_type": "stream",
     "text": [
      "                                                                                 "
     ]
    },
    {
     "name": "stdout",
     "output_type": "stream",
     "text": [
      "Epoch: 114/200\n",
      "Training loss: 0.4075 Validation loss: 0.5344\n",
      "accuracy: 0.3763 Precision: 0.4340\n",
      "Pixel-wise Acc: 0.8762 MeanIoU: 0.3538\n"
     ]
    },
    {
     "name": "stderr",
     "output_type": "stream",
     "text": [
      "                                                                                 "
     ]
    },
    {
     "name": "stdout",
     "output_type": "stream",
     "text": [
      "Epoch: 115/200\n",
      "Training loss: 0.4044 Validation loss: 0.4793\n",
      "accuracy: 0.3844 Precision: 0.4674\n",
      "Pixel-wise Acc: 0.8884 MeanIoU: 0.3757\n"
     ]
    },
    {
     "name": "stderr",
     "output_type": "stream",
     "text": [
      "                                                                                 "
     ]
    },
    {
     "name": "stdout",
     "output_type": "stream",
     "text": [
      "Epoch: 116/200\n",
      "Training loss: 0.4071 Validation loss: 0.6667\n",
      "accuracy: 0.3189 Precision: 0.4012\n",
      "Pixel-wise Acc: 0.8558 MeanIoU: 0.3133\n"
     ]
    },
    {
     "name": "stderr",
     "output_type": "stream",
     "text": [
      "                                                                                 "
     ]
    },
    {
     "name": "stdout",
     "output_type": "stream",
     "text": [
      "Epoch: 117/200\n",
      "Training loss: 0.4093 Validation loss: 0.4884\n",
      "accuracy: 0.3708 Precision: 0.4732\n",
      "Pixel-wise Acc: 0.8913 MeanIoU: 0.3700\n"
     ]
    },
    {
     "name": "stderr",
     "output_type": "stream",
     "text": [
      "                                                                                 "
     ]
    },
    {
     "name": "stdout",
     "output_type": "stream",
     "text": [
      "Epoch: 118/200\n",
      "Training loss: 0.4078 Validation loss: 0.4732\n",
      "accuracy: 0.3583 Precision: 0.4870\n",
      "Pixel-wise Acc: 0.8929 MeanIoU: 0.3643\n"
     ]
    },
    {
     "name": "stderr",
     "output_type": "stream",
     "text": [
      "                                                                                 "
     ]
    },
    {
     "name": "stdout",
     "output_type": "stream",
     "text": [
      "Epoch: 119/200\n",
      "Training loss: 0.3978 Validation loss: 0.5026\n",
      "accuracy: 0.3695 Precision: 0.4531\n",
      "Pixel-wise Acc: 0.8874 MeanIoU: 0.3665\n"
     ]
    },
    {
     "name": "stderr",
     "output_type": "stream",
     "text": [
      "                                                                                 "
     ]
    },
    {
     "name": "stdout",
     "output_type": "stream",
     "text": [
      "Epoch: 120/200\n",
      "Training loss: 0.4024 Validation loss: 0.5129\n",
      "accuracy: 0.3502 Precision: 0.4548\n",
      "Pixel-wise Acc: 0.8792 MeanIoU: 0.3479\n"
     ]
    },
    {
     "name": "stderr",
     "output_type": "stream",
     "text": [
      "                                                                                 "
     ]
    },
    {
     "name": "stdout",
     "output_type": "stream",
     "text": [
      "Epoch: 121/200\n",
      "Training loss: 0.4067 Validation loss: 0.4775\n",
      "accuracy: 0.3628 Precision: 0.4641\n",
      "Pixel-wise Acc: 0.8935 MeanIoU: 0.3687\n"
     ]
    },
    {
     "name": "stderr",
     "output_type": "stream",
     "text": [
      "                                                                                 "
     ]
    },
    {
     "name": "stdout",
     "output_type": "stream",
     "text": [
      "Epoch: 122/200\n",
      "Training loss: 0.4018 Validation loss: 0.6538\n",
      "accuracy: 0.3266 Precision: 0.4286\n",
      "Pixel-wise Acc: 0.8642 MeanIoU: 0.3231\n"
     ]
    },
    {
     "name": "stderr",
     "output_type": "stream",
     "text": [
      "                                                                                 "
     ]
    },
    {
     "name": "stdout",
     "output_type": "stream",
     "text": [
      "Epoch: 123/200\n",
      "Training loss: 0.4072 Validation loss: 0.5120\n",
      "accuracy: 0.3755 Precision: 0.4181\n",
      "Pixel-wise Acc: 0.8821 MeanIoU: 0.3661\n"
     ]
    },
    {
     "name": "stderr",
     "output_type": "stream",
     "text": [
      "                                                                                 "
     ]
    },
    {
     "name": "stdout",
     "output_type": "stream",
     "text": [
      "Epoch: 124/200\n",
      "Training loss: 0.4008 Validation loss: 0.6433\n",
      "accuracy: 0.3330 Precision: 0.4271\n",
      "Pixel-wise Acc: 0.8549 MeanIoU: 0.3224\n"
     ]
    },
    {
     "name": "stderr",
     "output_type": "stream",
     "text": [
      "                                                                                 "
     ]
    },
    {
     "name": "stdout",
     "output_type": "stream",
     "text": [
      "Epoch: 125/200\n",
      "Training loss: 0.4053 Validation loss: 0.5682\n",
      "accuracy: 0.3276 Precision: 0.4524\n",
      "Pixel-wise Acc: 0.8675 MeanIoU: 0.3380\n"
     ]
    },
    {
     "name": "stderr",
     "output_type": "stream",
     "text": [
      "                                                                                 "
     ]
    },
    {
     "name": "stdout",
     "output_type": "stream",
     "text": [
      "Epoch: 126/200\n",
      "Training loss: 0.4067 Validation loss: 0.5755\n",
      "accuracy: 0.3272 Precision: 0.4393\n",
      "Pixel-wise Acc: 0.8701 MeanIoU: 0.3567\n"
     ]
    },
    {
     "name": "stderr",
     "output_type": "stream",
     "text": [
      "                                                                                 "
     ]
    },
    {
     "name": "stdout",
     "output_type": "stream",
     "text": [
      "Epoch: 127/200\n",
      "Training loss: 0.4028 Validation loss: 0.4893\n",
      "accuracy: 0.3829 Precision: 0.5276\n",
      "Pixel-wise Acc: 0.8931 MeanIoU: 0.4167\n"
     ]
    },
    {
     "name": "stderr",
     "output_type": "stream",
     "text": [
      "                                                                                 "
     ]
    },
    {
     "name": "stdout",
     "output_type": "stream",
     "text": [
      "Epoch: 128/200\n",
      "Training loss: 0.4075 Validation loss: 0.5010\n",
      "accuracy: 0.3688 Precision: 0.4771\n",
      "Pixel-wise Acc: 0.8855 MeanIoU: 0.3654\n"
     ]
    },
    {
     "name": "stderr",
     "output_type": "stream",
     "text": [
      "                                                                                 "
     ]
    },
    {
     "name": "stdout",
     "output_type": "stream",
     "text": [
      "Epoch: 129/200\n",
      "Training loss: 0.4001 Validation loss: 0.6779\n",
      "accuracy: 0.3757 Precision: 0.4138\n",
      "Pixel-wise Acc: 0.8439 MeanIoU: 0.3437\n"
     ]
    },
    {
     "name": "stderr",
     "output_type": "stream",
     "text": [
      "                                                                                 "
     ]
    },
    {
     "name": "stdout",
     "output_type": "stream",
     "text": [
      "Epoch: 130/200\n",
      "Training loss: 0.4044 Validation loss: 0.4921\n",
      "accuracy: 0.3450 Precision: 0.4375\n",
      "Pixel-wise Acc: 0.8830 MeanIoU: 0.3524\n"
     ]
    },
    {
     "name": "stderr",
     "output_type": "stream",
     "text": [
      "                                                                                 "
     ]
    },
    {
     "name": "stdout",
     "output_type": "stream",
     "text": [
      "Epoch: 131/200\n",
      "Training loss: 0.3976 Validation loss: 0.5371\n",
      "accuracy: 0.3364 Precision: 0.4741\n",
      "Pixel-wise Acc: 0.8790 MeanIoU: 0.3460\n"
     ]
    },
    {
     "name": "stderr",
     "output_type": "stream",
     "text": [
      "                                                                                 "
     ]
    },
    {
     "name": "stdout",
     "output_type": "stream",
     "text": [
      "Epoch: 132/200\n",
      "Training loss: 0.4080 Validation loss: 0.5379\n",
      "accuracy: 0.3787 Precision: 0.4526\n",
      "Pixel-wise Acc: 0.8821 MeanIoU: 0.3601\n"
     ]
    },
    {
     "name": "stderr",
     "output_type": "stream",
     "text": [
      "                                                                                 "
     ]
    },
    {
     "name": "stdout",
     "output_type": "stream",
     "text": [
      "Epoch: 133/200\n",
      "Training loss: 0.4104 Validation loss: 0.4841\n",
      "accuracy: 0.3888 Precision: 0.4722\n",
      "Pixel-wise Acc: 0.8893 MeanIoU: 0.3728\n"
     ]
    },
    {
     "name": "stderr",
     "output_type": "stream",
     "text": [
      "                                                                                 "
     ]
    },
    {
     "name": "stdout",
     "output_type": "stream",
     "text": [
      "Epoch: 134/200\n",
      "Training loss: 0.4075 Validation loss: 0.4803\n",
      "accuracy: 0.3831 Precision: 0.4942\n",
      "Pixel-wise Acc: 0.8953 MeanIoU: 0.3907\n"
     ]
    },
    {
     "name": "stderr",
     "output_type": "stream",
     "text": [
      "                                                                                 "
     ]
    },
    {
     "name": "stdout",
     "output_type": "stream",
     "text": [
      "Epoch: 135/200\n",
      "Training loss: 0.4013 Validation loss: 0.6018\n",
      "accuracy: 0.3406 Precision: 0.4076\n",
      "Pixel-wise Acc: 0.8698 MeanIoU: 0.3425\n"
     ]
    },
    {
     "name": "stderr",
     "output_type": "stream",
     "text": [
      "                                                                                 "
     ]
    },
    {
     "name": "stdout",
     "output_type": "stream",
     "text": [
      "Epoch: 136/200\n",
      "Training loss: 0.3994 Validation loss: 0.5551\n",
      "accuracy: 0.3320 Precision: 0.3822\n",
      "Pixel-wise Acc: 0.8771 MeanIoU: 0.3301\n"
     ]
    },
    {
     "name": "stderr",
     "output_type": "stream",
     "text": [
      "                                                                                 "
     ]
    },
    {
     "name": "stdout",
     "output_type": "stream",
     "text": [
      "Epoch: 137/200\n",
      "Training loss: 0.4035 Validation loss: 0.6779\n",
      "accuracy: 0.3106 Precision: 0.4081\n",
      "Pixel-wise Acc: 0.8489 MeanIoU: 0.3027\n"
     ]
    },
    {
     "name": "stderr",
     "output_type": "stream",
     "text": [
      "                                                                                 "
     ]
    },
    {
     "name": "stdout",
     "output_type": "stream",
     "text": [
      "Epoch: 138/200\n",
      "Training loss: 0.3971 Validation loss: 0.4993\n",
      "accuracy: 0.3738 Precision: 0.4787\n",
      "Pixel-wise Acc: 0.8871 MeanIoU: 0.3730\n"
     ]
    },
    {
     "name": "stderr",
     "output_type": "stream",
     "text": [
      "                                                                                 "
     ]
    },
    {
     "name": "stdout",
     "output_type": "stream",
     "text": [
      "Epoch: 139/200\n",
      "Training loss: 0.4096 Validation loss: 0.5787\n",
      "accuracy: 0.3655 Precision: 0.4574\n",
      "Pixel-wise Acc: 0.8699 MeanIoU: 0.3568\n"
     ]
    },
    {
     "name": "stderr",
     "output_type": "stream",
     "text": [
      "                                                                                 "
     ]
    },
    {
     "name": "stdout",
     "output_type": "stream",
     "text": [
      "Epoch: 140/200\n",
      "Training loss: 0.4037 Validation loss: 0.4981\n",
      "accuracy: 0.3787 Precision: 0.4820\n",
      "Pixel-wise Acc: 0.8862 MeanIoU: 0.3695\n"
     ]
    },
    {
     "name": "stderr",
     "output_type": "stream",
     "text": [
      "                                                                                 "
     ]
    },
    {
     "name": "stdout",
     "output_type": "stream",
     "text": [
      "Epoch: 141/200\n",
      "Training loss: 0.4093 Validation loss: 0.5350\n",
      "accuracy: 0.4127 Precision: 0.4503\n",
      "Pixel-wise Acc: 0.8800 MeanIoU: 0.4047\n"
     ]
    },
    {
     "name": "stderr",
     "output_type": "stream",
     "text": [
      "                                                                                 "
     ]
    },
    {
     "name": "stdout",
     "output_type": "stream",
     "text": [
      "Epoch: 142/200\n",
      "Training loss: 0.3952 Validation loss: 0.5971\n",
      "accuracy: 0.3815 Precision: 0.4414\n",
      "Pixel-wise Acc: 0.8603 MeanIoU: 0.3591\n"
     ]
    },
    {
     "name": "stderr",
     "output_type": "stream",
     "text": [
      "                                                                                 "
     ]
    },
    {
     "name": "stdout",
     "output_type": "stream",
     "text": [
      "Epoch: 143/200\n",
      "Training loss: 0.4008 Validation loss: 0.5337\n",
      "accuracy: 0.3745 Precision: 0.4526\n",
      "Pixel-wise Acc: 0.8823 MeanIoU: 0.3683\n"
     ]
    },
    {
     "name": "stderr",
     "output_type": "stream",
     "text": [
      "                                                                                 "
     ]
    },
    {
     "name": "stdout",
     "output_type": "stream",
     "text": [
      "Epoch: 144/200\n",
      "Training loss: 0.4024 Validation loss: 0.5213\n",
      "accuracy: 0.3686 Precision: 0.5429\n",
      "Pixel-wise Acc: 0.8754 MeanIoU: 0.4308\n"
     ]
    },
    {
     "name": "stderr",
     "output_type": "stream",
     "text": [
      "                                                                                 "
     ]
    },
    {
     "name": "stdout",
     "output_type": "stream",
     "text": [
      "Epoch: 145/200\n",
      "Training loss: 0.4037 Validation loss: 0.6673\n",
      "accuracy: 0.3656 Precision: 0.4141\n",
      "Pixel-wise Acc: 0.8414 MeanIoU: 0.3310\n"
     ]
    },
    {
     "name": "stderr",
     "output_type": "stream",
     "text": [
      "                                                                                 "
     ]
    },
    {
     "name": "stdout",
     "output_type": "stream",
     "text": [
      "Epoch: 146/200\n",
      "Training loss: 0.4108 Validation loss: 0.5445\n",
      "accuracy: 0.3264 Precision: 0.4743\n",
      "Pixel-wise Acc: 0.8701 MeanIoU: 0.3437\n"
     ]
    },
    {
     "name": "stderr",
     "output_type": "stream",
     "text": [
      "                                                                                 "
     ]
    },
    {
     "name": "stdout",
     "output_type": "stream",
     "text": [
      "Epoch: 147/200\n",
      "Training loss: 0.4028 Validation loss: 0.6583\n",
      "accuracy: 0.3449 Precision: 0.4463\n",
      "Pixel-wise Acc: 0.8538 MeanIoU: 0.3404\n"
     ]
    },
    {
     "name": "stderr",
     "output_type": "stream",
     "text": [
      "                                                                                 "
     ]
    },
    {
     "name": "stdout",
     "output_type": "stream",
     "text": [
      "Epoch: 148/200\n",
      "Training loss: 0.3989 Validation loss: 0.5167\n",
      "accuracy: 0.3796 Precision: 0.4696\n",
      "Pixel-wise Acc: 0.8900 MeanIoU: 0.3666\n"
     ]
    },
    {
     "name": "stderr",
     "output_type": "stream",
     "text": [
      "                                                                                 "
     ]
    },
    {
     "name": "stdout",
     "output_type": "stream",
     "text": [
      "Epoch: 149/200\n",
      "Training loss: 0.4017 Validation loss: 0.6359\n",
      "accuracy: 0.3740 Precision: 0.3944\n",
      "Pixel-wise Acc: 0.8546 MeanIoU: 0.3452\n"
     ]
    },
    {
     "name": "stderr",
     "output_type": "stream",
     "text": [
      "                                                                                 "
     ]
    },
    {
     "name": "stdout",
     "output_type": "stream",
     "text": [
      "Epoch: 150/200\n",
      "Training loss: 0.4056 Validation loss: 0.8160\n",
      "accuracy: 0.3544 Precision: 0.4114\n",
      "Pixel-wise Acc: 0.7852 MeanIoU: 0.3317\n"
     ]
    },
    {
     "name": "stderr",
     "output_type": "stream",
     "text": [
      "                                                                                 "
     ]
    },
    {
     "name": "stdout",
     "output_type": "stream",
     "text": [
      "Epoch: 151/200\n",
      "Training loss: 0.4008 Validation loss: 0.5422\n",
      "accuracy: 0.3859 Precision: 0.4890\n",
      "Pixel-wise Acc: 0.8775 MeanIoU: 0.4079\n"
     ]
    },
    {
     "name": "stderr",
     "output_type": "stream",
     "text": [
      "                                                                                 "
     ]
    },
    {
     "name": "stdout",
     "output_type": "stream",
     "text": [
      "Epoch: 152/200\n",
      "Training loss: 0.4083 Validation loss: 0.4804\n",
      "accuracy: 0.3604 Precision: 0.4501\n",
      "Pixel-wise Acc: 0.8920 MeanIoU: 0.3658\n"
     ]
    },
    {
     "name": "stderr",
     "output_type": "stream",
     "text": [
      "                                                                                 "
     ]
    },
    {
     "name": "stdout",
     "output_type": "stream",
     "text": [
      "Epoch: 153/200\n",
      "Training loss: 0.3981 Validation loss: 0.5339\n",
      "accuracy: 0.3814 Precision: 0.4578\n",
      "Pixel-wise Acc: 0.8830 MeanIoU: 0.3697\n"
     ]
    },
    {
     "name": "stderr",
     "output_type": "stream",
     "text": [
      "                                                                                 "
     ]
    },
    {
     "name": "stdout",
     "output_type": "stream",
     "text": [
      "Epoch: 154/200\n",
      "Training loss: 0.4003 Validation loss: 0.8942\n",
      "accuracy: 0.3026 Precision: 0.4186\n",
      "Pixel-wise Acc: 0.7711 MeanIoU: 0.2887\n"
     ]
    },
    {
     "name": "stderr",
     "output_type": "stream",
     "text": [
      "                                                                                 "
     ]
    },
    {
     "name": "stdout",
     "output_type": "stream",
     "text": [
      "Epoch: 155/200\n",
      "Training loss: 0.4090 Validation loss: 0.6523\n",
      "accuracy: 0.3250 Precision: 0.4364\n",
      "Pixel-wise Acc: 0.8583 MeanIoU: 0.3220\n"
     ]
    },
    {
     "name": "stderr",
     "output_type": "stream",
     "text": [
      "                                                                                 "
     ]
    },
    {
     "name": "stdout",
     "output_type": "stream",
     "text": [
      "Epoch: 156/200\n",
      "Training loss: 0.4105 Validation loss: 0.5147\n",
      "accuracy: 0.3774 Precision: 0.4758\n",
      "Pixel-wise Acc: 0.8772 MeanIoU: 0.3908\n"
     ]
    },
    {
     "name": "stderr",
     "output_type": "stream",
     "text": [
      "                                                                                 "
     ]
    },
    {
     "name": "stdout",
     "output_type": "stream",
     "text": [
      "Epoch: 157/200\n",
      "Training loss: 0.4043 Validation loss: 0.5367\n",
      "accuracy: 0.3579 Precision: 0.4573\n",
      "Pixel-wise Acc: 0.8724 MeanIoU: 0.3920\n"
     ]
    },
    {
     "name": "stderr",
     "output_type": "stream",
     "text": [
      "                                                                                 "
     ]
    },
    {
     "name": "stdout",
     "output_type": "stream",
     "text": [
      "Epoch: 158/200\n",
      "Training loss: 0.4043 Validation loss: 0.5190\n",
      "accuracy: 0.4009 Precision: 0.4597\n",
      "Pixel-wise Acc: 0.8806 MeanIoU: 0.3774\n"
     ]
    },
    {
     "name": "stderr",
     "output_type": "stream",
     "text": [
      "                                                                                 "
     ]
    },
    {
     "name": "stdout",
     "output_type": "stream",
     "text": [
      "Epoch: 159/200\n",
      "Training loss: 0.3953 Validation loss: 0.4998\n",
      "accuracy: 0.3915 Precision: 0.4698\n",
      "Pixel-wise Acc: 0.8880 MeanIoU: 0.3795\n"
     ]
    },
    {
     "name": "stderr",
     "output_type": "stream",
     "text": [
      "                                                                                 "
     ]
    },
    {
     "name": "stdout",
     "output_type": "stream",
     "text": [
      "Epoch: 160/200\n",
      "Training loss: 0.4145 Validation loss: 0.5275\n",
      "accuracy: 0.3398 Precision: 0.4560\n",
      "Pixel-wise Acc: 0.8807 MeanIoU: 0.3500\n"
     ]
    },
    {
     "name": "stderr",
     "output_type": "stream",
     "text": [
      "                                                                                 "
     ]
    },
    {
     "name": "stdout",
     "output_type": "stream",
     "text": [
      "Epoch: 161/200\n",
      "Training loss: 0.4021 Validation loss: 0.7749\n",
      "accuracy: 0.3225 Precision: 0.3578\n",
      "Pixel-wise Acc: 0.8333 MeanIoU: 0.2901\n"
     ]
    },
    {
     "name": "stderr",
     "output_type": "stream",
     "text": [
      "                                                                                 "
     ]
    },
    {
     "name": "stdout",
     "output_type": "stream",
     "text": [
      "Epoch: 162/200\n",
      "Training loss: 0.4008 Validation loss: 0.5221\n",
      "accuracy: 0.4127 Precision: 0.4375\n",
      "Pixel-wise Acc: 0.8793 MeanIoU: 0.3753\n"
     ]
    },
    {
     "name": "stderr",
     "output_type": "stream",
     "text": [
      "                                                                                 "
     ]
    },
    {
     "name": "stdout",
     "output_type": "stream",
     "text": [
      "Epoch: 163/200\n",
      "Training loss: 0.4083 Validation loss: 0.5184\n",
      "accuracy: 0.3591 Precision: 0.4852\n",
      "Pixel-wise Acc: 0.8885 MeanIoU: 0.3852\n"
     ]
    },
    {
     "name": "stderr",
     "output_type": "stream",
     "text": [
      "                                                                                 "
     ]
    },
    {
     "name": "stdout",
     "output_type": "stream",
     "text": [
      "Epoch: 164/200\n",
      "Training loss: 0.3984 Validation loss: 0.5495\n",
      "accuracy: 0.3477 Precision: 0.4909\n",
      "Pixel-wise Acc: 0.8744 MeanIoU: 0.3446\n"
     ]
    },
    {
     "name": "stderr",
     "output_type": "stream",
     "text": [
      "                                                                                 "
     ]
    },
    {
     "name": "stdout",
     "output_type": "stream",
     "text": [
      "Epoch: 165/200\n",
      "Training loss: 0.3988 Validation loss: 0.5171\n",
      "accuracy: 0.3752 Precision: 0.4772\n",
      "Pixel-wise Acc: 0.8871 MeanIoU: 0.3709\n"
     ]
    },
    {
     "name": "stderr",
     "output_type": "stream",
     "text": [
      "                                                                                 "
     ]
    },
    {
     "name": "stdout",
     "output_type": "stream",
     "text": [
      "Epoch: 166/200\n",
      "Training loss: 0.4147 Validation loss: 0.5770\n",
      "accuracy: 0.3677 Precision: 0.4432\n",
      "Pixel-wise Acc: 0.8707 MeanIoU: 0.3473\n"
     ]
    },
    {
     "name": "stderr",
     "output_type": "stream",
     "text": [
      "                                                                                 "
     ]
    },
    {
     "name": "stdout",
     "output_type": "stream",
     "text": [
      "Epoch: 167/200\n",
      "Training loss: 0.4007 Validation loss: 0.5961\n",
      "accuracy: 0.3840 Precision: 0.4501\n",
      "Pixel-wise Acc: 0.8604 MeanIoU: 0.3390\n"
     ]
    },
    {
     "name": "stderr",
     "output_type": "stream",
     "text": [
      "                                                                                 "
     ]
    },
    {
     "name": "stdout",
     "output_type": "stream",
     "text": [
      "Epoch: 168/200\n",
      "Training loss: 0.4034 Validation loss: 0.5535\n",
      "accuracy: 0.3180 Precision: 0.4570\n",
      "Pixel-wise Acc: 0.8742 MeanIoU: 0.3338\n"
     ]
    },
    {
     "name": "stderr",
     "output_type": "stream",
     "text": [
      "                                                                                 "
     ]
    },
    {
     "name": "stdout",
     "output_type": "stream",
     "text": [
      "Epoch: 169/200\n",
      "Training loss: 0.3958 Validation loss: 0.5818\n",
      "accuracy: 0.3815 Precision: 0.4636\n",
      "Pixel-wise Acc: 0.8668 MeanIoU: 0.3618\n"
     ]
    },
    {
     "name": "stderr",
     "output_type": "stream",
     "text": [
      "                                                                                 "
     ]
    },
    {
     "name": "stdout",
     "output_type": "stream",
     "text": [
      "Epoch: 170/200\n",
      "Training loss: 0.4010 Validation loss: 0.4767\n",
      "accuracy: 0.3966 Precision: 0.4274\n",
      "Pixel-wise Acc: 0.8937 MeanIoU: 0.3814\n"
     ]
    },
    {
     "name": "stderr",
     "output_type": "stream",
     "text": [
      "                                                                                 "
     ]
    },
    {
     "name": "stdout",
     "output_type": "stream",
     "text": [
      "Epoch: 171/200\n",
      "Training loss: 0.4071 Validation loss: 0.5527\n",
      "accuracy: 0.4086 Precision: 0.4199\n",
      "Pixel-wise Acc: 0.8696 MeanIoU: 0.4008\n"
     ]
    },
    {
     "name": "stderr",
     "output_type": "stream",
     "text": [
      "                                                                                 "
     ]
    },
    {
     "name": "stdout",
     "output_type": "stream",
     "text": [
      "Epoch: 172/200\n",
      "Training loss: 0.4042 Validation loss: 0.5499\n",
      "accuracy: 0.3693 Precision: 0.4335\n",
      "Pixel-wise Acc: 0.8805 MeanIoU: 0.3580\n"
     ]
    },
    {
     "name": "stderr",
     "output_type": "stream",
     "text": [
      "                                                                                 "
     ]
    },
    {
     "name": "stdout",
     "output_type": "stream",
     "text": [
      "Epoch: 173/200\n",
      "Training loss: 0.4053 Validation loss: 0.5032\n",
      "accuracy: 0.3678 Precision: 0.4459\n",
      "Pixel-wise Acc: 0.8852 MeanIoU: 0.3611\n"
     ]
    },
    {
     "name": "stderr",
     "output_type": "stream",
     "text": [
      "                                                                                 "
     ]
    },
    {
     "name": "stdout",
     "output_type": "stream",
     "text": [
      "Epoch: 174/200\n",
      "Training loss: 0.3935 Validation loss: 0.5355\n",
      "accuracy: 0.3321 Precision: 0.4228\n",
      "Pixel-wise Acc: 0.8739 MeanIoU: 0.3663\n"
     ]
    },
    {
     "name": "stderr",
     "output_type": "stream",
     "text": [
      "                                                                                 "
     ]
    },
    {
     "name": "stdout",
     "output_type": "stream",
     "text": [
      "Epoch: 175/200\n",
      "Training loss: 0.4042 Validation loss: 0.5467\n",
      "accuracy: 0.3388 Precision: 0.4597\n",
      "Pixel-wise Acc: 0.8733 MeanIoU: 0.3373\n"
     ]
    },
    {
     "name": "stderr",
     "output_type": "stream",
     "text": [
      "                                                                                 "
     ]
    },
    {
     "name": "stdout",
     "output_type": "stream",
     "text": [
      "Epoch: 176/200\n",
      "Training loss: 0.3981 Validation loss: 0.5351\n",
      "accuracy: 0.3598 Precision: 0.4408\n",
      "Pixel-wise Acc: 0.8821 MeanIoU: 0.3546\n"
     ]
    },
    {
     "name": "stderr",
     "output_type": "stream",
     "text": [
      "                                                                                 "
     ]
    },
    {
     "name": "stdout",
     "output_type": "stream",
     "text": [
      "Epoch: 177/200\n",
      "Training loss: 0.3990 Validation loss: 0.5130\n",
      "accuracy: 0.3543 Precision: 0.4797\n",
      "Pixel-wise Acc: 0.8859 MeanIoU: 0.3638\n"
     ]
    },
    {
     "name": "stderr",
     "output_type": "stream",
     "text": [
      "                                                                                 "
     ]
    },
    {
     "name": "stdout",
     "output_type": "stream",
     "text": [
      "Epoch: 178/200\n",
      "Training loss: 0.4044 Validation loss: 0.5353\n",
      "accuracy: 0.3605 Precision: 0.4555\n",
      "Pixel-wise Acc: 0.8830 MeanIoU: 0.3545\n"
     ]
    },
    {
     "name": "stderr",
     "output_type": "stream",
     "text": [
      "                                                                                 "
     ]
    },
    {
     "name": "stdout",
     "output_type": "stream",
     "text": [
      "Epoch: 179/200\n",
      "Training loss: 0.4018 Validation loss: 0.4847\n",
      "accuracy: 0.3671 Precision: 0.5072\n",
      "Pixel-wise Acc: 0.8880 MeanIoU: 0.3731\n"
     ]
    },
    {
     "name": "stderr",
     "output_type": "stream",
     "text": [
      "                                                                                 "
     ]
    },
    {
     "name": "stdout",
     "output_type": "stream",
     "text": [
      "Epoch: 180/200\n",
      "Training loss: 0.4080 Validation loss: 0.5705\n",
      "accuracy: 0.3652 Precision: 0.4335\n",
      "Pixel-wise Acc: 0.8730 MeanIoU: 0.3501\n"
     ]
    },
    {
     "name": "stderr",
     "output_type": "stream",
     "text": [
      "                                                                                 "
     ]
    },
    {
     "name": "stdout",
     "output_type": "stream",
     "text": [
      "Epoch: 181/200\n",
      "Training loss: 0.4073 Validation loss: 0.5437\n",
      "accuracy: 0.3446 Precision: 0.4534\n",
      "Pixel-wise Acc: 0.8748 MeanIoU: 0.3393\n"
     ]
    },
    {
     "name": "stderr",
     "output_type": "stream",
     "text": [
      "                                                                                 "
     ]
    },
    {
     "name": "stdout",
     "output_type": "stream",
     "text": [
      "Epoch: 182/200\n",
      "Training loss: 0.4030 Validation loss: 0.6842\n",
      "accuracy: 0.3444 Precision: 0.3560\n",
      "Pixel-wise Acc: 0.8486 MeanIoU: 0.3291\n"
     ]
    },
    {
     "name": "stderr",
     "output_type": "stream",
     "text": [
      "                                                                                 "
     ]
    },
    {
     "name": "stdout",
     "output_type": "stream",
     "text": [
      "Epoch: 183/200\n",
      "Training loss: 0.3992 Validation loss: 0.4958\n",
      "accuracy: 0.4304 Precision: 0.5181\n",
      "Pixel-wise Acc: 0.8883 MeanIoU: 0.4234\n"
     ]
    },
    {
     "name": "stderr",
     "output_type": "stream",
     "text": [
      "                                                                                 "
     ]
    },
    {
     "name": "stdout",
     "output_type": "stream",
     "text": [
      "Epoch: 184/200\n",
      "Training loss: 0.3997 Validation loss: 0.8201\n",
      "accuracy: 0.3239 Precision: 0.4583\n",
      "Pixel-wise Acc: 0.8262 MeanIoU: 0.3365\n"
     ]
    },
    {
     "name": "stderr",
     "output_type": "stream",
     "text": [
      "                                                                                 "
     ]
    },
    {
     "name": "stdout",
     "output_type": "stream",
     "text": [
      "Epoch: 185/200\n",
      "Training loss: 0.3970 Validation loss: 0.5031\n",
      "accuracy: 0.3875 Precision: 0.4643\n",
      "Pixel-wise Acc: 0.8890 MeanIoU: 0.3806\n"
     ]
    },
    {
     "name": "stderr",
     "output_type": "stream",
     "text": [
      "                                                                                 "
     ]
    },
    {
     "name": "stdout",
     "output_type": "stream",
     "text": [
      "Epoch: 186/200\n",
      "Training loss: 0.3965 Validation loss: 0.5166\n",
      "accuracy: 0.4016 Precision: 0.4278\n",
      "Pixel-wise Acc: 0.8796 MeanIoU: 0.3761\n"
     ]
    },
    {
     "name": "stderr",
     "output_type": "stream",
     "text": [
      "                                                                                 "
     ]
    },
    {
     "name": "stdout",
     "output_type": "stream",
     "text": [
      "Epoch: 187/200\n",
      "Training loss: 0.4092 Validation loss: 0.5215\n",
      "accuracy: 0.3499 Precision: 0.4703\n",
      "Pixel-wise Acc: 0.8825 MeanIoU: 0.3560\n"
     ]
    },
    {
     "name": "stderr",
     "output_type": "stream",
     "text": [
      "                                                                                 "
     ]
    },
    {
     "name": "stdout",
     "output_type": "stream",
     "text": [
      "Epoch: 188/200\n",
      "Training loss: 0.4038 Validation loss: 1.8919\n",
      "accuracy: 0.2887 Precision: 0.4364\n",
      "Pixel-wise Acc: 0.6004 MeanIoU: 0.2835\n"
     ]
    },
    {
     "name": "stderr",
     "output_type": "stream",
     "text": [
      "                                                                                 "
     ]
    },
    {
     "name": "stdout",
     "output_type": "stream",
     "text": [
      "Epoch: 189/200\n",
      "Training loss: 0.3996 Validation loss: 0.5211\n",
      "accuracy: 0.3850 Precision: 0.4757\n",
      "Pixel-wise Acc: 0.8835 MeanIoU: 0.3716\n"
     ]
    },
    {
     "name": "stderr",
     "output_type": "stream",
     "text": [
      "                                                                                 "
     ]
    },
    {
     "name": "stdout",
     "output_type": "stream",
     "text": [
      "Epoch: 190/200\n",
      "Training loss: 0.3995 Validation loss: 0.5867\n",
      "accuracy: 0.3956 Precision: 0.4431\n",
      "Pixel-wise Acc: 0.8676 MeanIoU: 0.3600\n"
     ]
    },
    {
     "name": "stderr",
     "output_type": "stream",
     "text": [
      "                                                                                 "
     ]
    },
    {
     "name": "stdout",
     "output_type": "stream",
     "text": [
      "Epoch: 191/200\n",
      "Training loss: 0.4090 Validation loss: 0.4992\n",
      "accuracy: 0.3538 Precision: 0.4546\n",
      "Pixel-wise Acc: 0.8892 MeanIoU: 0.3592\n"
     ]
    },
    {
     "name": "stderr",
     "output_type": "stream",
     "text": [
      "                                                                                 "
     ]
    },
    {
     "name": "stdout",
     "output_type": "stream",
     "text": [
      "Epoch: 192/200\n",
      "Training loss: 0.4035 Validation loss: 0.5356\n",
      "accuracy: 0.3664 Precision: 0.4315\n",
      "Pixel-wise Acc: 0.8823 MeanIoU: 0.3482\n"
     ]
    },
    {
     "name": "stderr",
     "output_type": "stream",
     "text": [
      "                                                                                 "
     ]
    },
    {
     "name": "stdout",
     "output_type": "stream",
     "text": [
      "Epoch: 193/200\n",
      "Training loss: 0.3986 Validation loss: 0.5631\n",
      "accuracy: 0.3808 Precision: 0.4198\n",
      "Pixel-wise Acc: 0.8716 MeanIoU: 0.3561\n"
     ]
    },
    {
     "name": "stderr",
     "output_type": "stream",
     "text": [
      "                                                                                 "
     ]
    },
    {
     "name": "stdout",
     "output_type": "stream",
     "text": [
      "Epoch: 194/200\n",
      "Training loss: 0.4010 Validation loss: 0.5412\n",
      "accuracy: 0.3742 Precision: 0.4720\n",
      "Pixel-wise Acc: 0.8639 MeanIoU: 0.3907\n"
     ]
    },
    {
     "name": "stderr",
     "output_type": "stream",
     "text": [
      "                                                                                 "
     ]
    },
    {
     "name": "stdout",
     "output_type": "stream",
     "text": [
      "Epoch: 195/200\n",
      "Training loss: 0.4048 Validation loss: 0.5101\n",
      "accuracy: 0.3891 Precision: 0.5022\n",
      "Pixel-wise Acc: 0.8822 MeanIoU: 0.3751\n"
     ]
    },
    {
     "name": "stderr",
     "output_type": "stream",
     "text": [
      "                                                                                 "
     ]
    },
    {
     "name": "stdout",
     "output_type": "stream",
     "text": [
      "Epoch: 196/200\n",
      "Training loss: 0.4003 Validation loss: 0.6156\n",
      "accuracy: 0.3355 Precision: 0.4395\n",
      "Pixel-wise Acc: 0.8626 MeanIoU: 0.3302\n"
     ]
    },
    {
     "name": "stderr",
     "output_type": "stream",
     "text": [
      "                                                                                 "
     ]
    },
    {
     "name": "stdout",
     "output_type": "stream",
     "text": [
      "Epoch: 197/200\n",
      "Training loss: 0.4034 Validation loss: 0.5939\n",
      "accuracy: 0.3830 Precision: 0.4478\n",
      "Pixel-wise Acc: 0.8596 MeanIoU: 0.3700\n"
     ]
    },
    {
     "name": "stderr",
     "output_type": "stream",
     "text": [
      "                                                                                 "
     ]
    },
    {
     "name": "stdout",
     "output_type": "stream",
     "text": [
      "Epoch: 198/200\n",
      "Training loss: 0.3996 Validation loss: 0.7197\n",
      "accuracy: 0.3679 Precision: 0.3760\n",
      "Pixel-wise Acc: 0.8343 MeanIoU: 0.3273\n"
     ]
    },
    {
     "name": "stderr",
     "output_type": "stream",
     "text": [
      "                                                                                 "
     ]
    },
    {
     "name": "stdout",
     "output_type": "stream",
     "text": [
      "Epoch: 199/200\n",
      "Training loss: 0.4022 Validation loss: 0.5520\n",
      "accuracy: 0.3457 Precision: 0.4005\n",
      "Pixel-wise Acc: 0.8787 MeanIoU: 0.3425\n"
     ]
    },
    {
     "name": "stderr",
     "output_type": "stream",
     "text": [
      "                                                                                 "
     ]
    },
    {
     "name": "stdout",
     "output_type": "stream",
     "text": [
      "Epoch: 200/200\n",
      "Training loss: 0.4124 Validation loss: 0.5677\n",
      "accuracy: 0.3152 Precision: 0.5067\n",
      "Pixel-wise Acc: 0.8785 MeanIoU: 0.3264\n",
      "Finish!\n"
     ]
    }
   ],
   "source": [
    "y_training_loss=[]\n",
    "y_val_loss=[]\n",
    "y_val_accuracy=[]\n",
    "y_val_precision=[]\n",
    "y_val_pixel_wise_acc=[]\n",
    "y_val_mIoU=[]\n",
    "\n",
    "for epoch in range(epochs):\n",
    "    message=f\"Current epoch:{epoch+1}/{epochs} \"\n",
    "    model.train()\n",
    "    training_loss_sum = 0.0\n",
    "    for images, labels in tqdm(training_loader, desc=message+\"Training: \", leave=False):\n",
    "        images = images.to(device)\n",
    "        labels = labels.to(device)\n",
    "        optimizer.zero_grad()\n",
    "        outputs = model(images)\n",
    "        out=outputs['out']\n",
    "        aux=outputs['aux']\n",
    "        loss1 = criterion(out, labels)\n",
    "        loss2 = criterion(aux, labels)\n",
    "        loss=loss1+0.35*loss2\n",
    "        loss.backward()\n",
    "        optimizer.step()\n",
    "        training_loss_sum += loss.item()\n",
    "    y_training_loss.append(training_loss_sum / len(training_loader))\n",
    "\n",
    "    model.eval()\n",
    "    val_loss_sum = 0.0\n",
    "    total_confusion_matrix = np.zeros((num_classes, num_classes))\n",
    "    with torch.no_grad():\n",
    "        for images, labels in tqdm(val_loader, desc=message+\"validating: \", leave=False):\n",
    "            images = images.to(device)\n",
    "            labels = labels.to(device)\n",
    "            outputs = model(images)\n",
    "            out=outputs['out']\n",
    "            aux=outputs['aux']\n",
    "            loss1 = criterion(out, labels)\n",
    "            loss2 = criterion(aux, labels)\n",
    "            loss=loss1+0.35*loss2\n",
    "            val_loss_sum += loss.item()\n",
    "            pred_labels = torch.argmax(out, dim=1)\n",
    "            pred_labels_np = pred_labels.cpu().numpy()\n",
    "            labels_np = labels.cpu().numpy()\n",
    "            for pred, target in zip(pred_labels_np, labels_np):\n",
    "                pred = pred.flatten()\n",
    "                target = target.flatten()\n",
    "                mask = target != 0\n",
    "                pred = pred[mask]\n",
    "                target = target[mask]\n",
    "                cm = confusion_matrix(target, pred, labels=np.arange(num_classes))\n",
    "                total_confusion_matrix += cm\n",
    "            metric_val_acc.update(pred_labels,labels)\n",
    "            metric_val_precision.update(pred_labels,labels)\n",
    "    #scheduler.step()\n",
    "    # mIou\n",
    "    intersection = np.diag(total_confusion_matrix)\n",
    "    union = total_confusion_matrix.sum(axis=1) + total_confusion_matrix.sum(axis=0) - intersection\n",
    "    iou=[1.0 if union[i]==0 else intersection[i] / union[i] for i in range(num_classes)]\n",
    "    mIoU=sum(iou[1:])/len(iou[1:])\n",
    "    # pixel-wise accuracy\n",
    "    correct_pixels = intersection.sum()\n",
    "    total_pixels = total_confusion_matrix.sum()\n",
    "    pixel_wise_acc=correct_pixels.item() / total_pixels.item()\n",
    "    \n",
    "    y_val_mIoU.append(mIoU)\n",
    "    y_val_loss.append(val_loss_sum/len(val_loader))\n",
    "    y_val_accuracy.append(metric_val_acc.compute().item())\n",
    "    y_val_precision.append(metric_val_precision.compute().item())\n",
    "    y_val_pixel_wise_acc.append(pixel_wise_acc)\n",
    "    metric_val_acc.reset()\n",
    "    metric_val_precision.reset()\n",
    "    print(f\"Epoch: {epoch+1}/{epochs}\")\n",
    "    print(f\"Training loss: {y_training_loss[epoch]:.4f} Validation loss: {y_val_loss[epoch]:.4f}\")\n",
    "    print(f\"accuracy: {y_val_accuracy[epoch]:.4f} Precision: {y_val_precision[epoch]:.4f}\")\n",
    "    print(f\"Pixel-wise Acc: {y_val_pixel_wise_acc[epoch]:.4f} MeanIoU: {y_val_mIoU[epoch]:.4f}\")\n",
    "    if (epoch+1)%50 == 0:\n",
    "        torch.save(model.state_dict(), Path(workspace_path)/model_folder_name/f\"model_{epoch+1}.pth\")\n",
    "    np.savetxt((Path(workspace_path)/model_folder_name/\"training_loss.csv\").as_posix(),np.array(y_training_loss),delimiter=',',fmt='%f')\n",
    "    np.savetxt((Path(workspace_path)/model_folder_name/\"val_loss.csv\").as_posix(),np.array(y_val_loss),delimiter=',',fmt='%f')\n",
    "    np.savetxt((Path(workspace_path)/model_folder_name/\"accuracy.csv\").as_posix(),np.array(y_val_accuracy),delimiter=',',fmt='%f')\n",
    "    np.savetxt((Path(workspace_path)/model_folder_name/\"precision.csv\").as_posix(),np.array(y_val_precision),delimiter=',',fmt='%f')\n",
    "    np.savetxt((Path(workspace_path)/model_folder_name/\"pixel_wise_acc.csv\").as_posix(),np.array(y_val_pixel_wise_acc),delimiter=',',fmt='%f')\n",
    "    np.savetxt((Path(workspace_path)/model_folder_name/\"mIoU.csv\").as_posix(),np.array(y_val_mIoU),delimiter=',',fmt='%f')\n",
    "torch.save(model.state_dict(), Path(workspace_path)/model_folder_name/f\"model.pth\")\n",
    "\n",
    "\n",
    "print(\"Finish!\")"
   ]
  },
  {
   "cell_type": "code",
   "execution_count": 9,
   "id": "c772da8d-e813-4f3c-ace7-79b0a7e67b66",
   "metadata": {},
   "outputs": [
    {
     "data": {
      "image/png": "[encoded data removed]",
      "text/plain": [
       "<Figure size 1200x500 with 3 Axes>"
      ]
     },
     "metadata": {},
     "output_type": "display_data"
    }
   ],
   "source": [
    "# Show results of training\n",
    "training_loss=np.genfromtxt((Path(workspace_path)/model_folder_name/\"training_loss.csv\").as_posix(),dtype=None,encoding='utf-8',delimiter=',')\n",
    "val_loss=np.genfromtxt((Path(workspace_path)/model_folder_name/\"val_loss.csv\").as_posix(),dtype=None,encoding='utf-8',delimiter=',')\n",
    "val_accuracy=np.genfromtxt((Path(workspace_path)/model_folder_name/\"accuracy.csv\").as_posix(),dtype=None,encoding='utf-8',delimiter=',')\n",
    "val_precision=np.genfromtxt((Path(workspace_path)/model_folder_name/\"precision.csv\").as_posix(),dtype=None,encoding='utf-8',delimiter=',')\n",
    "val_pixel_wise_accuracy=np.genfromtxt((Path(workspace_path)/model_folder_name/\"pixel_wise_acc.csv\").as_posix(),dtype=None,encoding='utf-8',delimiter=',')\n",
    "val_mIoU=np.genfromtxt((Path(workspace_path)/model_folder_name/\"mIoU.csv\").as_posix(),dtype=None,encoding='utf-8',delimiter=',')\n",
    "\n",
    "plt.figure(figsize=(12, 5))\n",
    "plt.subplot(1, 3, 1)\n",
    "plt.plot(training_loss, color='blue', label='Traning loss')\n",
    "plt.plot(val_loss, color='orange', label='Validation loss')\n",
    "plt.title(\"Loss\")\n",
    "plt.legend(loc='best')\n",
    "plt.subplot(1, 3, 2)\n",
    "plt.plot(val_accuracy, color='black', label='Accuracy')\n",
    "plt.plot(val_precision, color='red', label='Precision')\n",
    "plt.legend(loc='best')\n",
    "plt.title(\"Accuracy & Precision\")\n",
    "plt.subplot(1, 3, 3)\n",
    "plt.plot(val_pixel_wise_accuracy, color='yellow', label='pixel_acc')\n",
    "plt.plot(val_mIoU, color='green', label='mIoU')\n",
    "plt.legend(loc='best')\n",
    "plt.title(\"Pixel_acc & Mean IoU\")\n",
    "plt.show()"
   ]
  },
  {
   "cell_type": "code",
   "execution_count": 10,
   "id": "4514bee3-d2ee-4e61-8d87-99fec06ea240",
   "metadata": {
    "editable": true,
    "slideshow": {
     "slide_type": ""
    },
    "tags": []
   },
   "outputs": [
    {
     "name": "stderr",
     "output_type": "stream",
     "text": [
      "Load images and labels: 100%|██████████| 1924/1924 [00:02<00:00, 878.38it/s]\n",
      "/tmp/ipykernel_164426/2995685936.py:18: FutureWarning: You are using `torch.load` with `weights_only=False` (the current default value), which uses the default pickle module implicitly. It is possible to construct malicious pickle data which will execute arbitrary code during unpickling (See https://github.com/pytorch/pytorch/blob/main/SECURITY.md#untrusted-models for more details). In a future release, the default value for `weights_only` will be flipped to `True`. This limits the functions that could be executed during unpickling. Arbitrary objects will no longer be allowed to be loaded via this mode unless they are explicitly allowlisted by the user via `torch.serialization.add_safe_globals`. We recommend you start setting `weights_only=True` for any use case where you don't have full control of the loaded file. Please open an issue on GitHub for any issues related to this experimental feature.\n",
      "  model.load_state_dict(torch.load((Path(workspace_path)/model_folder_name/model_file_name)))\n",
      "                                                          "
     ]
    },
    {
     "name": "stdout",
     "output_type": "stream",
     "text": [
      "Pixel-wise Acc: 0.7140 MeanIoU: 0.2741\n"
     ]
    },
    {
     "name": "stderr",
     "output_type": "stream",
     "text": []
    }
   ],
   "source": [
    "# Testing parameters\n",
    "model_file_name=\"model_200.pth\"\n",
    "model_folder_name=\"model_1113\"\n",
    "# Load testing data\n",
    "color_transforms = transforms.Compose([\n",
    "    transforms.ToTensor(),\n",
    "    transforms.Normalize((0.4044, 0.4067, 0.4069), (0.2750, 0.2738, 0.2710))\n",
    "])\n",
    "loading_mode=\"pre\"\n",
    "target_size=(512,512)\n",
    "num_classes=25\n",
    "batch_size=8\n",
    "testing_dataset=CustomDataset(workspace_path,\"test_data_path.csv\",color_transforms,target_size,loading_mode)\n",
    "testing_loader=DataLoader(testing_dataset,batch_size,shuffle=False,drop_last=True)\n",
    "# Testing\n",
    "torch.cuda.empty_cache()\n",
    "model=deeplab_model\n",
    "model.load_state_dict(torch.load((Path(workspace_path)/model_folder_name/model_file_name)))\n",
    "model.to(device)\n",
    "model.eval()\n",
    "total_confusion_matrix = np.zeros((num_classes, num_classes))\n",
    "with torch.no_grad():\n",
    "    for images, labels in tqdm(testing_loader, desc=\"testing: \", leave=False):\n",
    "        images = images.to(device)\n",
    "        labels = labels.to(device)\n",
    "        outputs = model(images)\n",
    "        out=outputs['out']\n",
    "        pred_labels = torch.argmax(out, dim=1)\n",
    "        pred_labels_np = pred_labels.cpu().numpy()\n",
    "        labels_np = labels.cpu().numpy()\n",
    "        for pred, target in zip(pred_labels_np, labels_np):\n",
    "            pred = pred.flatten()\n",
    "            target = target.flatten()\n",
    "            mask = target != 0\n",
    "            pred = pred[mask]\n",
    "            target = target[mask]\n",
    "            cm = confusion_matrix(target, pred, labels=np.arange(num_classes))\n",
    "            total_confusion_matrix += cm\n",
    "# mIou\n",
    "intersection = np.diag(total_confusion_matrix)\n",
    "union = total_confusion_matrix.sum(axis=1) + total_confusion_matrix.sum(axis=0) - intersection\n",
    "iou=[1.0 if union[i]==0 else intersection[i] / union[i] for i in range(num_classes)]\n",
    "mIoU=sum(iou[1:])/len(iou[1:])\n",
    "# pixel-wise accuracy\n",
    "correct_pixels = intersection.sum()\n",
    "total_pixels = total_confusion_matrix.sum()\n",
    "pixel_wise_acc=correct_pixels.item() / total_pixels.item()\n",
    "print(f\"Pixel-wise Acc: {pixel_wise_acc:.4f} MeanIoU: {mIoU:.4f}\")"
   ]
  },
  {
   "cell_type": "code",
   "execution_count": 5,
   "id": "3af04d12-8e4a-40ef-8a59-77e538cc6fe4",
   "metadata": {},
   "outputs": [],
   "source": [
    "def load_image_and_label(image_path,label_path,target_size):\n",
    "    image=cv2.imread(image_path,cv2.IMREAD_UNCHANGED)\n",
    "    image=cv2.cvtColor(image, cv2.COLOR_BGR2RGB)\n",
    "    image = cv2.resize(image, target_size,interpolation=cv2.INTER_LINEAR)\n",
    "    label=cv2.imread(label_path,cv2.IMREAD_UNCHANGED)\n",
    "    label = cv2.resize(label, target_size,interpolation=cv2.INTER_NEAREST)\n",
    "    return image,label"
   ]
  },
  {
   "cell_type": "code",
   "execution_count": null,
   "id": "234ba8f7-d39f-46cf-ac4f-f0060c64370f",
   "metadata": {},
   "outputs": [
    {
     "name": "stderr",
     "output_type": "stream",
     "text": [
      "/tmp/ipykernel_201735/2289571750.py:12: FutureWarning: You are using `torch.load` with `weights_only=False` (the current default value), which uses the default pickle module implicitly. It is possible to construct malicious pickle data which will execute arbitrary code during unpickling (See https://github.com/pytorch/pytorch/blob/main/SECURITY.md#untrusted-models for more details). In a future release, the default value for `weights_only` will be flipped to `True`. This limits the functions that could be executed during unpickling. Arbitrary objects will no longer be allowed to be loaded via this mode unless they are explicitly allowlisted by the user via `torch.serialization.add_safe_globals`. We recommend you start setting `weights_only=True` for any use case where you don't have full control of the loaded file. Please open an issue on GitHub for any issues related to this experimental feature.\n",
      "  model.load_state_dict(torch.load((Path(workspace_path)/model_folder_name/model_file_name)))\n"
     ]
    },
    {
     "data": {
      "image/png": "[encoded data removed]",
      "text/plain": [
       "<Figure size 1200x500 with 3 Axes>"
      ]
     },
     "metadata": {},
     "output_type": "display_data"
    }
   ],
   "source": [
    "model_file_name=\"model_200.pth\"\n",
    "model_folder_name=\"model_1113\"\n",
    "color_transforms = transforms.Compose([\n",
    "    transforms.ToTensor(),\n",
    "    transforms.Normalize((0.4044, 0.4067, 0.4069), (0.2750, 0.2738, 0.2710))\n",
    "])\n",
    "target_size=(512,512)\n",
    "image_path=Path(workspace_path)/frames_folder_name/\"creek/creek_04171.png\"\n",
    "label_path=image_path.as_posix().replace(\"RUGD_frames-with-annotations\", \"RUGD_annotations_index\")\n",
    "torch.cuda.empty_cache()\n",
    "model=deeplab_model\n",
    "model.load_state_dict(torch.load((Path(workspace_path)/model_folder_name/model_file_name)))\n",
    "model.to(device)\n",
    "model.eval()\n",
    "with torch.no_grad():\n",
    "    image,label=load_image_and_label(image_path,label_path,target_size)\n",
    "    image_tensor=color_transforms(image).unsqueeze(0)\n",
    "    output= model(image_tensor.to(device))\n",
    "    out=output['out']\n",
    "    pred_label = torch.argmax(out, dim=1)\n",
    "    pred_label_np = pred_label.cpu().numpy().reshape(512,512).astype(np.uint8)\n",
    "\n",
    "plt.figure(figsize=(12, 5))\n",
    "plt.subplot(1, 3, 1)\n",
    "plt.imshow(image)\n",
    "plt.axis('off')\n",
    "plt.subplot(1, 3, 2)\n",
    "plt.imshow(to_color_label(label)[:, :, ::-1])\n",
    "plt.axis('off')\n",
    "plt.subplot(1, 3, 3)\n",
    "plt.imshow(to_color_label(pred_label_np)[:, :, ::-1])\n",
    "plt.axis('off')\n",
    "plt.show()"
   ]
  },
  {
   "cell_type": "code",
   "execution_count": null,
   "id": "a3c50fe5-d73c-4a04-8c3d-9e4c91a73490",
   "metadata": {},
   "outputs": [],
   "source": []
  }
 ],
 "metadata": {
  "kernelspec": {
   "display_name": "COMP9444",
   "language": "python",
   "name": "comp9444"
  },
  "language_info": {
   "codemirror_mode": {
    "name": "ipython",
    "version": 3
   },
   "file_extension": ".py",
   "mimetype": "text/x-python",
   "name": "python",
   "nbconvert_exporter": "python",
   "pygments_lexer": "ipython3",
   "version": "3.10.15"
  }
 },
 "nbformat": 4,
 "nbformat_minor": 5
}
